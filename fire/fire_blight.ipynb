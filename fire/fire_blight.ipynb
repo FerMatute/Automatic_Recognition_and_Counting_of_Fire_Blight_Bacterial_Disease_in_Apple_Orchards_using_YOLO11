{
 "cells": [
  {
   "cell_type": "markdown",
   "metadata": {},
   "source": [
    "### YOLOv10 Object Detection on Custom Dataset\n",
    "By: Fernando Matute\n",
    "\n",
    "2/09/24"
   ]
  },
  {
   "cell_type": "markdown",
   "metadata": {},
   "source": [
    "#### Check the GPU information"
   ]
  },
  {
   "cell_type": "code",
   "execution_count": 5,
   "metadata": {},
   "outputs": [
    {
     "name": "stdout",
     "output_type": "stream",
     "text": [
      "Wed Oct  2 06:14:12 2024       \n",
      "+-----------------------------------------------------------------------------------------+\n",
      "| NVIDIA-SMI 561.09                 Driver Version: 561.09         CUDA Version: 12.6     |\n",
      "|-----------------------------------------+------------------------+----------------------+\n",
      "| GPU  Name                  Driver-Model | Bus-Id          Disp.A | Volatile Uncorr. ECC |\n",
      "| Fan  Temp   Perf          Pwr:Usage/Cap |           Memory-Usage | GPU-Util  Compute M. |\n",
      "|                                         |                        |               MIG M. |\n",
      "|=========================================+========================+======================|\n",
      "|   0  NVIDIA GeForce RTX 4050 ...  WDDM  |   00000000:01:00.0 Off |                  N/A |\n",
      "| N/A   44C    P8              2W /   45W |     310MiB /   6141MiB |     29%      Default |\n",
      "|                                         |                        |                  N/A |\n",
      "+-----------------------------------------+------------------------+----------------------+\n",
      "                                                                                         \n",
      "+-----------------------------------------------------------------------------------------+\n",
      "| Processes:                                                                              |\n",
      "|  GPU   GI   CI        PID   Type   Process name                              GPU Memory |\n",
      "|        ID   ID                                                               Usage      |\n",
      "|=========================================================================================|\n",
      "|    0   N/A  N/A      2280    C+G   ...976_x64__8wekyb3d8bbwe\\ms-teams.exe      N/A      |\n",
      "|    0   N/A  N/A     10588    C+G   ...ekyb3d8bbwe\\PhoneExperienceHost.exe      N/A      |\n",
      "|    0   N/A  N/A     17388    C+G   ...6.0_x64__cv1g1gvanyjgm\\WhatsApp.exe      N/A      |\n",
      "|    0   N/A  N/A     18892    C+G   ...2txyewy\\StartMenuExperienceHost.exe      N/A      |\n",
      "|    0   N/A  N/A     18956    C+G   ...976_x64__8wekyb3d8bbwe\\ms-teams.exe      N/A      |\n",
      "|    0   N/A  N/A     20760    C+G   ...Programs\\Microsoft VS Code\\Code.exe      N/A      |\n",
      "|    0   N/A  N/A     21192    C+G   ...__8wekyb3d8bbwe\\WindowsTerminal.exe      N/A      |\n",
      "|    0   N/A  N/A     22328    C+G   ...GoPro\\GoPro Webcam\\GoPro Webcam.exe      N/A      |\n",
      "|    0   N/A  N/A     24220    C+G   ....0_x64__kzh8wxbdkxb8p\\DCv2\\DCv2.exe      N/A      |\n",
      "|    0   N/A  N/A     25896    C+G   ...on\\129.0.2792.65\\msedgewebview2.exe      N/A      |\n",
      "|    0   N/A  N/A     27372    C+G   ...CBS_cw5n1h2txyewy\\TextInputHost.exe      N/A      |\n",
      "|    0   N/A  N/A     28136    C+G   ...les\\Microsoft OneDrive\\OneDrive.exe      N/A      |\n",
      "|    0   N/A  N/A     29280    C+G   ...nt.CBS_cw5n1h2txyewy\\SearchHost.exe      N/A      |\n",
      "+-----------------------------------------------------------------------------------------+\n"
     ]
    }
   ],
   "source": [
    "!nvidia-smi"
   ]
  },
  {
   "cell_type": "markdown",
   "metadata": {},
   "source": [
    "### Check if cuda is available"
   ]
  },
  {
   "cell_type": "code",
   "execution_count": 6,
   "metadata": {},
   "outputs": [
    {
     "name": "stdout",
     "output_type": "stream",
     "text": [
      "cuda\n",
      "12.1\n"
     ]
    }
   ],
   "source": [
    "import torch\n",
    "if torch.cuda.is_available():\n",
    "    device = torch.device('cuda')\n",
    "else:\n",
    "    device = torch.device('cpu')\n",
    "print(device)\n",
    "\n",
    "print(torch.version.cuda)"
   ]
  },
  {
   "cell_type": "markdown",
   "metadata": {},
   "source": [
    "### Check your Working Directory"
   ]
  },
  {
   "cell_type": "code",
   "execution_count": 7,
   "metadata": {},
   "outputs": [
    {
     "name": "stdout",
     "output_type": "stream",
     "text": [
      "c:\\Users\\Fer\\Desktop\\FireBlight_DetectionYolov10\\fire\n"
     ]
    }
   ],
   "source": [
    "import os\n",
    "HOME = os.getcwd()\n",
    "print(HOME)"
   ]
  },
  {
   "cell_type": "markdown",
   "metadata": {},
   "source": [
    "### Download Dataset from Roboflow"
   ]
  },
  {
   "cell_type": "code",
   "execution_count": 8,
   "metadata": {},
   "outputs": [
    {
     "name": "stdout",
     "output_type": "stream",
     "text": [
      "loading Roboflow workspace...\n",
      "loading Roboflow project...\n"
     ]
    },
    {
     "name": "stderr",
     "output_type": "stream",
     "text": [
      "Downloading Dataset Version Zip in FireBlight_DataSet-3 to yolov9:: 100%|██████████| 475882/475882 [00:21<00:00, 22386.16it/s]"
     ]
    },
    {
     "name": "stdout",
     "output_type": "stream",
     "text": [
      "\n"
     ]
    },
    {
     "name": "stderr",
     "output_type": "stream",
     "text": [
      "\n",
      "Extracting Dataset Version Zip to FireBlight_DataSet-3 in yolov9:: 100%|██████████| 12734/12734 [00:04<00:00, 2663.37it/s]\n"
     ]
    }
   ],
   "source": [
    "from roboflow import Roboflow\n",
    "rf = Roboflow(api_key=\"y3yxZciCqVLq3nNsFTFu\")\n",
    "project = rf.workspace(\"phone-5kzyk\").project(\"fireblight_dataset\")\n",
    "version = project.version(3)\n",
    "dataset = version.download(\"yolov9\")"
   ]
  },
  {
   "cell_type": "code",
   "execution_count": 9,
   "metadata": {},
   "outputs": [
    {
     "name": "stdout",
     "output_type": "stream",
     "text": [
      "True\n",
      "2.4.1+cu121\n",
      "0.19.1+cu121\n",
      "---------------------\n",
      "nvcc: NVIDIA (R) Cuda compiler driver\n",
      "Copyright (c) 2005-2023 NVIDIA Corporation\n",
      "Built on Wed_Feb__8_05:53:42_Coordinated_Universal_Time_2023\n",
      "Cuda compilation tools, release 12.1, V12.1.66\n",
      "Build cuda_12.1.r12.1/compiler.32415258_0\n",
      "12.1\n",
      "90100\n"
     ]
    }
   ],
   "source": [
    "# Test \n",
    "import torchvision\n",
    "print(torch.cuda.is_available())\n",
    "print(torch.__version__)\n",
    "print(torchvision.__version__)\n",
    "\n",
    "print(\"---------------------\")\n",
    "!nvcc --version\n",
    "\n",
    "print(torch.version.cuda)\n",
    "print(torch.backends.cudnn.version())"
   ]
  },
  {
   "cell_type": "markdown",
   "metadata": {},
   "source": [
    "### Custom Training"
   ]
  },
  {
   "cell_type": "code",
   "execution_count": 15,
   "metadata": {},
   "outputs": [
    {
     "name": "stdout",
     "output_type": "stream",
     "text": [
      "Ultralytics 8.3.3  Python-3.9.20 torch-2.4.1+cu121 CUDA:0 (NVIDIA GeForce RTX 4050 Laptop GPU, 6140MiB)\n",
      "\u001b[34m\u001b[1mengine\\trainer: \u001b[0mtask=detect, mode=train, model=yolov10n.pt, data=C:\\Users\\Fer\\Desktop\\FireBlight_DetectionYolov10\\fire\\FireBlight_DataSet-3\\data.yaml, epochs=25, time=None, patience=100, batch=8, imgsz=640, save=True, save_period=-1, cache=False, device=None, workers=8, project=None, name=train, exist_ok=False, pretrained=True, optimizer=auto, verbose=True, seed=0, deterministic=True, single_cls=False, rect=False, cos_lr=False, close_mosaic=10, resume=False, amp=True, fraction=1.0, profile=False, freeze=None, multi_scale=False, overlap_mask=True, mask_ratio=4, dropout=0.0, val=True, split=val, save_json=False, save_hybrid=False, conf=None, iou=0.7, max_det=300, half=False, dnn=False, plots=True, source=None, vid_stride=1, stream_buffer=False, visualize=False, augment=False, agnostic_nms=False, classes=None, retina_masks=False, embed=None, show=False, save_frames=False, save_txt=False, save_conf=False, save_crop=False, show_labels=True, show_conf=True, show_boxes=True, line_width=None, format=torchscript, keras=False, optimize=False, int8=False, dynamic=False, simplify=True, opset=None, workspace=4, nms=False, lr0=0.01, lrf=0.01, momentum=0.937, weight_decay=0.0005, warmup_epochs=3.0, warmup_momentum=0.8, warmup_bias_lr=0.1, box=7.5, cls=0.5, dfl=1.5, pose=12.0, kobj=1.0, label_smoothing=0.0, nbs=64, hsv_h=0.015, hsv_s=0.7, hsv_v=0.4, degrees=0.0, translate=0.1, scale=0.5, shear=0.0, perspective=0.0, flipud=0.0, fliplr=0.5, bgr=0.0, mosaic=1.0, mixup=0.0, copy_paste=0.0, copy_paste_mode=flip, auto_augment=randaugment, erasing=0.4, crop_fraction=1.0, cfg=None, tracker=botsort.yaml, save_dir=runs\\detect\\train\n",
      "Overriding model.yaml nc=80 with nc=1\n",
      "\n",
      "                   from  n    params  module                                       arguments                     \n",
      "  0                  -1  1       464  ultralytics.nn.modules.conv.Conv             [3, 16, 3, 2]                 \n",
      "  1                  -1  1      4672  ultralytics.nn.modules.conv.Conv             [16, 32, 3, 2]                \n",
      "  2                  -1  1      7360  ultralytics.nn.modules.block.C2f             [32, 32, 1, True]             \n",
      "  3                  -1  1     18560  ultralytics.nn.modules.conv.Conv             [32, 64, 3, 2]                \n",
      "  4                  -1  2     49664  ultralytics.nn.modules.block.C2f             [64, 64, 2, True]             \n",
      "  5                  -1  1      9856  ultralytics.nn.modules.block.SCDown          [64, 128, 3, 2]               \n",
      "  6                  -1  2    197632  ultralytics.nn.modules.block.C2f             [128, 128, 2, True]           \n",
      "  7                  -1  1     36096  ultralytics.nn.modules.block.SCDown          [128, 256, 3, 2]              \n",
      "  8                  -1  1    460288  ultralytics.nn.modules.block.C2f             [256, 256, 1, True]           \n",
      "  9                  -1  1    164608  ultralytics.nn.modules.block.SPPF            [256, 256, 5]                 \n",
      " 10                  -1  1    249728  ultralytics.nn.modules.block.PSA             [256, 256]                    \n",
      " 11                  -1  1         0  torch.nn.modules.upsampling.Upsample         [None, 2, 'nearest']          \n",
      " 12             [-1, 6]  1         0  ultralytics.nn.modules.conv.Concat           [1]                           \n",
      " 13                  -1  1    148224  ultralytics.nn.modules.block.C2f             [384, 128, 1]                 \n",
      " 14                  -1  1         0  torch.nn.modules.upsampling.Upsample         [None, 2, 'nearest']          \n",
      " 15             [-1, 4]  1         0  ultralytics.nn.modules.conv.Concat           [1]                           \n",
      " 16                  -1  1     37248  ultralytics.nn.modules.block.C2f             [192, 64, 1]                  \n",
      " 17                  -1  1     36992  ultralytics.nn.modules.conv.Conv             [64, 64, 3, 2]                \n",
      " 18            [-1, 13]  1         0  ultralytics.nn.modules.conv.Concat           [1]                           \n",
      " 19                  -1  1    123648  ultralytics.nn.modules.block.C2f             [192, 128, 1]                 \n",
      " 20                  -1  1     18048  ultralytics.nn.modules.block.SCDown          [128, 128, 3, 2]              \n",
      " 21            [-1, 10]  1         0  ultralytics.nn.modules.conv.Concat           [1]                           \n",
      " 22                  -1  1    282624  ultralytics.nn.modules.block.C2fCIB          [384, 256, 1, True, True]     \n",
      " 23        [16, 19, 22]  1    861718  ultralytics.nn.modules.head.v10Detect        [1, [64, 128, 256]]           \n",
      "YOLOv10n summary: 385 layers, 2,707,430 parameters, 2,707,414 gradients, 8.4 GFLOPs\n",
      "\n",
      "Transferred 493/595 items from pretrained weights\n",
      "Freezing layer 'model.23.dfl.conv.weight'\n",
      "\u001b[34m\u001b[1mAMP: \u001b[0mrunning Automatic Mixed Precision (AMP) checks with YOLO11n...\n",
      "Downloading https://github.com/ultralytics/assets/releases/download/v8.3.0/yolo11n.pt to 'yolo11n.pt'...\n"
     ]
    },
    {
     "name": "stderr",
     "output_type": "stream",
     "text": [
      "100%|██████████| 5.35M/5.35M [00:00<00:00, 20.9MB/s]\n"
     ]
    },
    {
     "name": "stdout",
     "output_type": "stream",
     "text": [
      "\u001b[34m\u001b[1mAMP: \u001b[0mchecks passed \n"
     ]
    },
    {
     "name": "stderr",
     "output_type": "stream",
     "text": [
      "\u001b[34m\u001b[1mtrain: \u001b[0mScanning C:\\Users\\Fer\\Desktop\\FireBlight_DetectionYolov10\\fire\\FireBlight_DataSet-3\\train\\labels... 6059 images, 190 backgrounds, 0 corrupt: 100%|██████████| 6059/6059 [00:25<00:00, 236.94it/s]\n"
     ]
    },
    {
     "name": "stdout",
     "output_type": "stream",
     "text": [
      "\u001b[34m\u001b[1mtrain: \u001b[0mNew cache created: C:\\Users\\Fer\\Desktop\\FireBlight_DetectionYolov10\\fire\\FireBlight_DataSet-3\\train\\labels.cache\n",
      "WARNING  Box and segment counts should be equal, but got len(segments) = 4399, len(boxes) = 11792. To resolve this only boxes will be used and all segments will be removed. To avoid this please supply either a detect or segment dataset, not a detect-segment mixed dataset.\n"
     ]
    },
    {
     "name": "stderr",
     "output_type": "stream",
     "text": [
      "\u001b[34m\u001b[1mval: \u001b[0mScanning C:\\Users\\Fer\\Desktop\\FireBlight_DetectionYolov10\\fire\\FireBlight_DataSet-3\\valid\\labels... 158 images, 6 backgrounds, 0 corrupt: 100%|██████████| 158/158 [00:00<00:00, 208.67it/s]"
     ]
    },
    {
     "name": "stdout",
     "output_type": "stream",
     "text": [
      "\u001b[34m\u001b[1mval: \u001b[0mNew cache created: C:\\Users\\Fer\\Desktop\\FireBlight_DetectionYolov10\\fire\\FireBlight_DataSet-3\\valid\\labels.cache\n",
      "WARNING  Box and segment counts should be equal, but got len(segments) = 123, len(boxes) = 307. To resolve this only boxes will be used and all segments will be removed. To avoid this please supply either a detect or segment dataset, not a detect-segment mixed dataset.\n"
     ]
    },
    {
     "name": "stderr",
     "output_type": "stream",
     "text": [
      "\n"
     ]
    },
    {
     "name": "stdout",
     "output_type": "stream",
     "text": [
      "Plotting labels to runs\\detect\\train\\labels.jpg... \n",
      "\u001b[34m\u001b[1moptimizer:\u001b[0m 'optimizer=auto' found, ignoring 'lr0=0.01' and 'momentum=0.937' and determining best 'optimizer', 'lr0' and 'momentum' automatically... \n",
      "\u001b[34m\u001b[1moptimizer:\u001b[0m AdamW(lr=0.002, momentum=0.9) with parameter groups 95 weight(decay=0.0), 108 weight(decay=0.0005), 107 bias(decay=0.0)\n",
      "Image sizes 640 train, 640 val\n",
      "Using 8 dataloader workers\n",
      "Logging results to \u001b[1mruns\\detect\\train\u001b[0m\n",
      "Starting training for 25 epochs...\n",
      "\n",
      "      Epoch    GPU_mem   box_loss   cls_loss   dfl_loss  Instances       Size\n"
     ]
    },
    {
     "name": "stderr",
     "output_type": "stream",
     "text": [
      "       1/25      1.58G      3.934      7.074      3.378          8        640: 100%|██████████| 758/758 [02:11<00:00,  5.75it/s]\n",
      "                 Class     Images  Instances      Box(P          R      mAP50  mAP50-95): 100%|██████████| 10/10 [00:01<00:00,  7.66it/s]"
     ]
    },
    {
     "name": "stdout",
     "output_type": "stream",
     "text": [
      "                   all        158        307      0.308      0.277      0.198     0.0621\n"
     ]
    },
    {
     "name": "stderr",
     "output_type": "stream",
     "text": [
      "\n"
     ]
    },
    {
     "name": "stdout",
     "output_type": "stream",
     "text": [
      "\n",
      "      Epoch    GPU_mem   box_loss   cls_loss   dfl_loss  Instances       Size\n"
     ]
    },
    {
     "name": "stderr",
     "output_type": "stream",
     "text": [
      "       2/25      1.62G      4.067      4.933      3.462         17        640: 100%|██████████| 758/758 [01:44<00:00,  7.27it/s]\n",
      "                 Class     Images  Instances      Box(P          R      mAP50  mAP50-95): 100%|██████████| 10/10 [00:01<00:00,  7.80it/s]"
     ]
    },
    {
     "name": "stdout",
     "output_type": "stream",
     "text": [
      "                   all        158        307      0.303      0.283      0.194     0.0599\n"
     ]
    },
    {
     "name": "stderr",
     "output_type": "stream",
     "text": [
      "\n"
     ]
    },
    {
     "name": "stdout",
     "output_type": "stream",
     "text": [
      "\n",
      "      Epoch    GPU_mem   box_loss   cls_loss   dfl_loss  Instances       Size\n"
     ]
    },
    {
     "name": "stderr",
     "output_type": "stream",
     "text": [
      "       3/25      1.61G      4.062       4.63      3.494          6        640: 100%|██████████| 758/758 [01:46<00:00,  7.13it/s]\n",
      "                 Class     Images  Instances      Box(P          R      mAP50  mAP50-95): 100%|██████████| 10/10 [00:01<00:00,  9.28it/s]"
     ]
    },
    {
     "name": "stdout",
     "output_type": "stream",
     "text": [
      "                   all        158        307      0.357      0.336      0.293      0.108\n"
     ]
    },
    {
     "name": "stderr",
     "output_type": "stream",
     "text": [
      "\n"
     ]
    },
    {
     "name": "stdout",
     "output_type": "stream",
     "text": [
      "\n",
      "      Epoch    GPU_mem   box_loss   cls_loss   dfl_loss  Instances       Size\n"
     ]
    },
    {
     "name": "stderr",
     "output_type": "stream",
     "text": [
      "       4/25      1.66G      4.023      4.463      3.473          2        640: 100%|██████████| 758/758 [01:34<00:00,  8.02it/s]\n",
      "                 Class     Images  Instances      Box(P          R      mAP50  mAP50-95): 100%|██████████| 10/10 [00:01<00:00,  9.18it/s]"
     ]
    },
    {
     "name": "stdout",
     "output_type": "stream",
     "text": [
      "                   all        158        307      0.414      0.349      0.302      0.113\n"
     ]
    },
    {
     "name": "stderr",
     "output_type": "stream",
     "text": [
      "\n"
     ]
    },
    {
     "name": "stdout",
     "output_type": "stream",
     "text": [
      "\n",
      "      Epoch    GPU_mem   box_loss   cls_loss   dfl_loss  Instances       Size\n"
     ]
    },
    {
     "name": "stderr",
     "output_type": "stream",
     "text": [
      "       5/25      1.62G      3.946      4.278      3.364         16        640: 100%|██████████| 758/758 [01:34<00:00,  8.04it/s]\n",
      "                 Class     Images  Instances      Box(P          R      mAP50  mAP50-95): 100%|██████████| 10/10 [00:01<00:00,  9.20it/s]"
     ]
    },
    {
     "name": "stdout",
     "output_type": "stream",
     "text": [
      "                   all        158        307      0.344      0.326      0.305      0.111\n"
     ]
    },
    {
     "name": "stderr",
     "output_type": "stream",
     "text": [
      "\n"
     ]
    },
    {
     "name": "stdout",
     "output_type": "stream",
     "text": [
      "\n",
      "      Epoch    GPU_mem   box_loss   cls_loss   dfl_loss  Instances       Size\n"
     ]
    },
    {
     "name": "stderr",
     "output_type": "stream",
     "text": [
      "       6/25      1.61G      3.885      4.071      3.326          5        640: 100%|██████████| 758/758 [01:38<00:00,  7.67it/s]\n",
      "                 Class     Images  Instances      Box(P          R      mAP50  mAP50-95): 100%|██████████| 10/10 [00:01<00:00,  8.63it/s]"
     ]
    },
    {
     "name": "stdout",
     "output_type": "stream",
     "text": [
      "                   all        158        307      0.386      0.352      0.287      0.105\n"
     ]
    },
    {
     "name": "stderr",
     "output_type": "stream",
     "text": [
      "\n"
     ]
    },
    {
     "name": "stdout",
     "output_type": "stream",
     "text": [
      "\n",
      "      Epoch    GPU_mem   box_loss   cls_loss   dfl_loss  Instances       Size\n"
     ]
    },
    {
     "name": "stderr",
     "output_type": "stream",
     "text": [
      "       7/25      1.61G      3.821      3.948      3.299          5        640: 100%|██████████| 758/758 [01:36<00:00,  7.84it/s]\n",
      "                 Class     Images  Instances      Box(P          R      mAP50  mAP50-95): 100%|██████████| 10/10 [00:01<00:00,  8.21it/s]"
     ]
    },
    {
     "name": "stdout",
     "output_type": "stream",
     "text": [
      "                   all        158        307      0.415      0.384      0.314      0.119\n"
     ]
    },
    {
     "name": "stderr",
     "output_type": "stream",
     "text": [
      "\n"
     ]
    },
    {
     "name": "stdout",
     "output_type": "stream",
     "text": [
      "\n",
      "      Epoch    GPU_mem   box_loss   cls_loss   dfl_loss  Instances       Size\n"
     ]
    },
    {
     "name": "stderr",
     "output_type": "stream",
     "text": [
      "       8/25      1.62G      3.793      3.882       3.27         12        640: 100%|██████████| 758/758 [01:39<00:00,  7.64it/s]\n",
      "                 Class     Images  Instances      Box(P          R      mAP50  mAP50-95): 100%|██████████| 10/10 [00:01<00:00,  8.68it/s]"
     ]
    },
    {
     "name": "stdout",
     "output_type": "stream",
     "text": [
      "                   all        158        307       0.53      0.391      0.381      0.143\n"
     ]
    },
    {
     "name": "stderr",
     "output_type": "stream",
     "text": [
      "\n"
     ]
    },
    {
     "name": "stdout",
     "output_type": "stream",
     "text": [
      "\n",
      "      Epoch    GPU_mem   box_loss   cls_loss   dfl_loss  Instances       Size\n"
     ]
    },
    {
     "name": "stderr",
     "output_type": "stream",
     "text": [
      "       9/25      1.62G      3.777      3.804      3.263         10        640: 100%|██████████| 758/758 [01:47<00:00,  7.04it/s]\n",
      "                 Class     Images  Instances      Box(P          R      mAP50  mAP50-95): 100%|██████████| 10/10 [00:01<00:00,  8.69it/s]"
     ]
    },
    {
     "name": "stdout",
     "output_type": "stream",
     "text": [
      "                   all        158        307      0.419      0.427      0.392      0.159\n"
     ]
    },
    {
     "name": "stderr",
     "output_type": "stream",
     "text": [
      "\n"
     ]
    },
    {
     "name": "stdout",
     "output_type": "stream",
     "text": [
      "\n",
      "      Epoch    GPU_mem   box_loss   cls_loss   dfl_loss  Instances       Size\n"
     ]
    },
    {
     "name": "stderr",
     "output_type": "stream",
     "text": [
      "      10/25      1.61G      3.706        3.7      3.205         11        640: 100%|██████████| 758/758 [01:35<00:00,  7.90it/s]\n",
      "                 Class     Images  Instances      Box(P          R      mAP50  mAP50-95): 100%|██████████| 10/10 [00:01<00:00,  8.98it/s]"
     ]
    },
    {
     "name": "stdout",
     "output_type": "stream",
     "text": [
      "                   all        158        307      0.518       0.42      0.419      0.166\n"
     ]
    },
    {
     "name": "stderr",
     "output_type": "stream",
     "text": [
      "\n"
     ]
    },
    {
     "name": "stdout",
     "output_type": "stream",
     "text": [
      "\n",
      "      Epoch    GPU_mem   box_loss   cls_loss   dfl_loss  Instances       Size\n"
     ]
    },
    {
     "name": "stderr",
     "output_type": "stream",
     "text": [
      "      11/25      1.61G      3.665      3.643      3.176          3        640: 100%|██████████| 758/758 [01:34<00:00,  7.98it/s]\n",
      "                 Class     Images  Instances      Box(P          R      mAP50  mAP50-95): 100%|██████████| 10/10 [00:01<00:00,  8.86it/s]"
     ]
    },
    {
     "name": "stdout",
     "output_type": "stream",
     "text": [
      "                   all        158        307      0.474      0.417        0.4      0.154\n"
     ]
    },
    {
     "name": "stderr",
     "output_type": "stream",
     "text": [
      "\n"
     ]
    },
    {
     "name": "stdout",
     "output_type": "stream",
     "text": [
      "\n",
      "      Epoch    GPU_mem   box_loss   cls_loss   dfl_loss  Instances       Size\n"
     ]
    },
    {
     "name": "stderr",
     "output_type": "stream",
     "text": [
      "      12/25      1.61G      3.633      3.543       3.17          4        640: 100%|██████████| 758/758 [01:31<00:00,  8.25it/s]\n",
      "                 Class     Images  Instances      Box(P          R      mAP50  mAP50-95): 100%|██████████| 10/10 [00:01<00:00,  9.62it/s]"
     ]
    },
    {
     "name": "stdout",
     "output_type": "stream",
     "text": [
      "                   all        158        307      0.481       0.44      0.407      0.162\n"
     ]
    },
    {
     "name": "stderr",
     "output_type": "stream",
     "text": [
      "\n"
     ]
    },
    {
     "name": "stdout",
     "output_type": "stream",
     "text": [
      "\n",
      "      Epoch    GPU_mem   box_loss   cls_loss   dfl_loss  Instances       Size\n"
     ]
    },
    {
     "name": "stderr",
     "output_type": "stream",
     "text": [
      "      13/25      1.61G      3.604      3.458      3.149          4        640: 100%|██████████| 758/758 [01:26<00:00,  8.79it/s]\n",
      "                 Class     Images  Instances      Box(P          R      mAP50  mAP50-95): 100%|██████████| 10/10 [00:01<00:00,  9.92it/s]\n"
     ]
    },
    {
     "name": "stdout",
     "output_type": "stream",
     "text": [
      "                   all        158        307      0.483      0.456       0.41      0.161\n",
      "\n",
      "      Epoch    GPU_mem   box_loss   cls_loss   dfl_loss  Instances       Size\n"
     ]
    },
    {
     "name": "stderr",
     "output_type": "stream",
     "text": [
      "      14/25      1.61G      3.583      3.395      3.112          2        640: 100%|██████████| 758/758 [01:26<00:00,  8.73it/s]\n",
      "                 Class     Images  Instances      Box(P          R      mAP50  mAP50-95): 100%|██████████| 10/10 [00:01<00:00,  9.46it/s]"
     ]
    },
    {
     "name": "stdout",
     "output_type": "stream",
     "text": [
      "                   all        158        307      0.503      0.476      0.437      0.163\n"
     ]
    },
    {
     "name": "stderr",
     "output_type": "stream",
     "text": [
      "\n"
     ]
    },
    {
     "name": "stdout",
     "output_type": "stream",
     "text": [
      "\n",
      "      Epoch    GPU_mem   box_loss   cls_loss   dfl_loss  Instances       Size\n"
     ]
    },
    {
     "name": "stderr",
     "output_type": "stream",
     "text": [
      "      15/25      1.61G       3.52      3.281      3.084          6        640: 100%|██████████| 758/758 [01:27<00:00,  8.67it/s]\n",
      "                 Class     Images  Instances      Box(P          R      mAP50  mAP50-95): 100%|██████████| 10/10 [00:01<00:00,  9.62it/s]"
     ]
    },
    {
     "name": "stdout",
     "output_type": "stream",
     "text": [
      "                   all        158        307      0.526       0.44       0.43      0.159\n"
     ]
    },
    {
     "name": "stderr",
     "output_type": "stream",
     "text": [
      "\n"
     ]
    },
    {
     "name": "stdout",
     "output_type": "stream",
     "text": [
      "Closing dataloader mosaic\n",
      "\n",
      "      Epoch    GPU_mem   box_loss   cls_loss   dfl_loss  Instances       Size\n"
     ]
    },
    {
     "name": "stderr",
     "output_type": "stream",
     "text": [
      "      16/25      1.61G      3.477      2.985      3.097          3        640: 100%|██████████| 758/758 [01:27<00:00,  8.63it/s]\n",
      "                 Class     Images  Instances      Box(P          R      mAP50  mAP50-95): 100%|██████████| 10/10 [00:01<00:00,  9.99it/s]"
     ]
    },
    {
     "name": "stdout",
     "output_type": "stream",
     "text": [
      "                   all        158        307      0.552      0.427      0.429      0.177\n"
     ]
    },
    {
     "name": "stderr",
     "output_type": "stream",
     "text": [
      "\n"
     ]
    },
    {
     "name": "stdout",
     "output_type": "stream",
     "text": [
      "\n",
      "      Epoch    GPU_mem   box_loss   cls_loss   dfl_loss  Instances       Size\n"
     ]
    },
    {
     "name": "stderr",
     "output_type": "stream",
     "text": [
      "      17/25      1.62G      3.404      2.862      3.023          3        640: 100%|██████████| 758/758 [01:26<00:00,  8.79it/s]\n",
      "                 Class     Images  Instances      Box(P          R      mAP50  mAP50-95): 100%|██████████| 10/10 [00:01<00:00,  9.74it/s]"
     ]
    },
    {
     "name": "stdout",
     "output_type": "stream",
     "text": [
      "                   all        158        307      0.474      0.437      0.421      0.169\n"
     ]
    },
    {
     "name": "stderr",
     "output_type": "stream",
     "text": [
      "\n"
     ]
    },
    {
     "name": "stdout",
     "output_type": "stream",
     "text": [
      "\n",
      "      Epoch    GPU_mem   box_loss   cls_loss   dfl_loss  Instances       Size\n"
     ]
    },
    {
     "name": "stderr",
     "output_type": "stream",
     "text": [
      "      18/25      1.61G      3.372      2.736      3.011          3        640: 100%|██████████| 758/758 [01:26<00:00,  8.79it/s]\n",
      "                 Class     Images  Instances      Box(P          R      mAP50  mAP50-95): 100%|██████████| 10/10 [00:00<00:00, 10.02it/s]"
     ]
    },
    {
     "name": "stdout",
     "output_type": "stream",
     "text": [
      "                   all        158        307      0.502       0.42      0.393      0.153\n"
     ]
    },
    {
     "name": "stderr",
     "output_type": "stream",
     "text": [
      "\n"
     ]
    },
    {
     "name": "stdout",
     "output_type": "stream",
     "text": [
      "\n",
      "      Epoch    GPU_mem   box_loss   cls_loss   dfl_loss  Instances       Size\n"
     ]
    },
    {
     "name": "stderr",
     "output_type": "stream",
     "text": [
      "      19/25      1.62G      3.298      2.568      2.948         13        640: 100%|██████████| 758/758 [01:26<00:00,  8.79it/s]\n",
      "                 Class     Images  Instances      Box(P          R      mAP50  mAP50-95): 100%|██████████| 10/10 [00:01<00:00,  9.44it/s]"
     ]
    },
    {
     "name": "stdout",
     "output_type": "stream",
     "text": [
      "                   all        158        307       0.46      0.459      0.404       0.16\n"
     ]
    },
    {
     "name": "stderr",
     "output_type": "stream",
     "text": [
      "\n"
     ]
    },
    {
     "name": "stdout",
     "output_type": "stream",
     "text": [
      "\n",
      "      Epoch    GPU_mem   box_loss   cls_loss   dfl_loss  Instances       Size\n"
     ]
    },
    {
     "name": "stderr",
     "output_type": "stream",
     "text": [
      "      20/25      1.61G       3.22      2.441      2.886          3        640: 100%|██████████| 758/758 [01:24<00:00,  8.96it/s]\n",
      "                 Class     Images  Instances      Box(P          R      mAP50  mAP50-95): 100%|██████████| 10/10 [00:01<00:00,  9.77it/s]"
     ]
    },
    {
     "name": "stdout",
     "output_type": "stream",
     "text": [
      "                   all        158        307      0.494      0.456      0.415      0.166\n"
     ]
    },
    {
     "name": "stderr",
     "output_type": "stream",
     "text": [
      "\n"
     ]
    },
    {
     "name": "stdout",
     "output_type": "stream",
     "text": [
      "\n",
      "      Epoch    GPU_mem   box_loss   cls_loss   dfl_loss  Instances       Size\n"
     ]
    },
    {
     "name": "stderr",
     "output_type": "stream",
     "text": [
      "      21/25      1.61G      3.151      2.351      2.842          8        640: 100%|██████████| 758/758 [01:26<00:00,  8.79it/s]\n",
      "                 Class     Images  Instances      Box(P          R      mAP50  mAP50-95): 100%|██████████| 10/10 [00:01<00:00,  8.99it/s]"
     ]
    },
    {
     "name": "stdout",
     "output_type": "stream",
     "text": [
      "                   all        158        307      0.553      0.424      0.439      0.174\n"
     ]
    },
    {
     "name": "stderr",
     "output_type": "stream",
     "text": [
      "\n"
     ]
    },
    {
     "name": "stdout",
     "output_type": "stream",
     "text": [
      "\n",
      "      Epoch    GPU_mem   box_loss   cls_loss   dfl_loss  Instances       Size\n"
     ]
    },
    {
     "name": "stderr",
     "output_type": "stream",
     "text": [
      "      22/25      1.61G      3.087      2.238      2.789          8        640: 100%|██████████| 758/758 [01:27<00:00,  8.69it/s]\n",
      "                 Class     Images  Instances      Box(P          R      mAP50  mAP50-95): 100%|██████████| 10/10 [00:01<00:00,  9.33it/s]"
     ]
    },
    {
     "name": "stdout",
     "output_type": "stream",
     "text": [
      "                   all        158        307      0.532      0.476      0.434      0.164\n"
     ]
    },
    {
     "name": "stderr",
     "output_type": "stream",
     "text": [
      "\n"
     ]
    },
    {
     "name": "stdout",
     "output_type": "stream",
     "text": [
      "\n",
      "      Epoch    GPU_mem   box_loss   cls_loss   dfl_loss  Instances       Size\n"
     ]
    },
    {
     "name": "stderr",
     "output_type": "stream",
     "text": [
      "      23/25      1.61G      3.009      2.144      2.745          5        640: 100%|██████████| 758/758 [01:26<00:00,  8.78it/s]\n",
      "                 Class     Images  Instances      Box(P          R      mAP50  mAP50-95): 100%|██████████| 10/10 [00:00<00:00, 10.01it/s]"
     ]
    },
    {
     "name": "stdout",
     "output_type": "stream",
     "text": [
      "                   all        158        307       0.51      0.456      0.425      0.173\n"
     ]
    },
    {
     "name": "stderr",
     "output_type": "stream",
     "text": [
      "\n"
     ]
    },
    {
     "name": "stdout",
     "output_type": "stream",
     "text": [
      "\n",
      "      Epoch    GPU_mem   box_loss   cls_loss   dfl_loss  Instances       Size\n"
     ]
    },
    {
     "name": "stderr",
     "output_type": "stream",
     "text": [
      "      24/25      1.61G      2.944      2.043      2.692          3        640: 100%|██████████| 758/758 [01:28<00:00,  8.60it/s]\n",
      "                 Class     Images  Instances      Box(P          R      mAP50  mAP50-95): 100%|██████████| 10/10 [00:01<00:00,  9.72it/s]"
     ]
    },
    {
     "name": "stdout",
     "output_type": "stream",
     "text": [
      "                   all        158        307      0.542      0.433       0.43      0.165\n"
     ]
    },
    {
     "name": "stderr",
     "output_type": "stream",
     "text": [
      "\n"
     ]
    },
    {
     "name": "stdout",
     "output_type": "stream",
     "text": [
      "\n",
      "      Epoch    GPU_mem   box_loss   cls_loss   dfl_loss  Instances       Size\n"
     ]
    },
    {
     "name": "stderr",
     "output_type": "stream",
     "text": [
      "      25/25      1.61G      2.897      1.977      2.666          6        640: 100%|██████████| 758/758 [01:27<00:00,  8.66it/s]\n",
      "                 Class     Images  Instances      Box(P          R      mAP50  mAP50-95): 100%|██████████| 10/10 [00:00<00:00, 10.04it/s]"
     ]
    },
    {
     "name": "stdout",
     "output_type": "stream",
     "text": [
      "                   all        158        307      0.532      0.453      0.445       0.17\n"
     ]
    },
    {
     "name": "stderr",
     "output_type": "stream",
     "text": [
      "\n"
     ]
    },
    {
     "name": "stdout",
     "output_type": "stream",
     "text": [
      "\n",
      "25 epochs completed in 0.672 hours.\n",
      "Optimizer stripped from runs\\detect\\train\\weights\\last.pt, 5.8MB\n",
      "Optimizer stripped from runs\\detect\\train\\weights\\best.pt, 5.8MB\n",
      "\n",
      "Validating runs\\detect\\train\\weights\\best.pt...\n",
      "Ultralytics 8.3.3  Python-3.9.20 torch-2.4.1+cu121 CUDA:0 (NVIDIA GeForce RTX 4050 Laptop GPU, 6140MiB)\n",
      "YOLOv10n summary (fused): 285 layers, 2,694,806 parameters, 0 gradients, 8.2 GFLOPs\n"
     ]
    },
    {
     "name": "stderr",
     "output_type": "stream",
     "text": [
      "                 Class     Images  Instances      Box(P          R      mAP50  mAP50-95): 100%|██████████| 10/10 [00:01<00:00,  8.88it/s]\n"
     ]
    },
    {
     "name": "stdout",
     "output_type": "stream",
     "text": [
      "                   all        158        307      0.551      0.424      0.429      0.177\n",
      "Speed: 0.3ms preprocess, 2.6ms inference, 0.0ms loss, 0.8ms postprocess per image\n",
      "Results saved to \u001b[1mruns\\detect\\train\u001b[0m\n"
     ]
    },
    {
     "data": {
      "text/plain": [
       "ultralytics.utils.metrics.DetMetrics object with attributes:\n",
       "\n",
       "ap_class_index: array([0])\n",
       "box: ultralytics.utils.metrics.Metric object\n",
       "confusion_matrix: <ultralytics.utils.metrics.ConfusionMatrix object at 0x000002A0F7C3EF70>\n",
       "curves: ['Precision-Recall(B)', 'F1-Confidence(B)', 'Precision-Confidence(B)', 'Recall-Confidence(B)']\n",
       "curves_results: [[array([          0,    0.001001,    0.002002,    0.003003,    0.004004,    0.005005,    0.006006,    0.007007,    0.008008,    0.009009,     0.01001,    0.011011,    0.012012,    0.013013,    0.014014,    0.015015,    0.016016,    0.017017,    0.018018,    0.019019,     0.02002,    0.021021,    0.022022,    0.023023,\n",
       "          0.024024,    0.025025,    0.026026,    0.027027,    0.028028,    0.029029,     0.03003,    0.031031,    0.032032,    0.033033,    0.034034,    0.035035,    0.036036,    0.037037,    0.038038,    0.039039,     0.04004,    0.041041,    0.042042,    0.043043,    0.044044,    0.045045,    0.046046,    0.047047,\n",
       "          0.048048,    0.049049,     0.05005,    0.051051,    0.052052,    0.053053,    0.054054,    0.055055,    0.056056,    0.057057,    0.058058,    0.059059,     0.06006,    0.061061,    0.062062,    0.063063,    0.064064,    0.065065,    0.066066,    0.067067,    0.068068,    0.069069,     0.07007,    0.071071,\n",
       "          0.072072,    0.073073,    0.074074,    0.075075,    0.076076,    0.077077,    0.078078,    0.079079,     0.08008,    0.081081,    0.082082,    0.083083,    0.084084,    0.085085,    0.086086,    0.087087,    0.088088,    0.089089,     0.09009,    0.091091,    0.092092,    0.093093,    0.094094,    0.095095,\n",
       "          0.096096,    0.097097,    0.098098,    0.099099,      0.1001,      0.1011,      0.1021,      0.1031,      0.1041,     0.10511,     0.10611,     0.10711,     0.10811,     0.10911,     0.11011,     0.11111,     0.11211,     0.11311,     0.11411,     0.11512,     0.11612,     0.11712,     0.11812,     0.11912,\n",
       "           0.12012,     0.12112,     0.12212,     0.12312,     0.12412,     0.12513,     0.12613,     0.12713,     0.12813,     0.12913,     0.13013,     0.13113,     0.13213,     0.13313,     0.13413,     0.13514,     0.13614,     0.13714,     0.13814,     0.13914,     0.14014,     0.14114,     0.14214,     0.14314,\n",
       "           0.14414,     0.14515,     0.14615,     0.14715,     0.14815,     0.14915,     0.15015,     0.15115,     0.15215,     0.15315,     0.15415,     0.15516,     0.15616,     0.15716,     0.15816,     0.15916,     0.16016,     0.16116,     0.16216,     0.16316,     0.16416,     0.16517,     0.16617,     0.16717,\n",
       "           0.16817,     0.16917,     0.17017,     0.17117,     0.17217,     0.17317,     0.17417,     0.17518,     0.17618,     0.17718,     0.17818,     0.17918,     0.18018,     0.18118,     0.18218,     0.18318,     0.18418,     0.18519,     0.18619,     0.18719,     0.18819,     0.18919,     0.19019,     0.19119,\n",
       "           0.19219,     0.19319,     0.19419,      0.1952,      0.1962,      0.1972,      0.1982,      0.1992,      0.2002,      0.2012,      0.2022,      0.2032,      0.2042,     0.20521,     0.20621,     0.20721,     0.20821,     0.20921,     0.21021,     0.21121,     0.21221,     0.21321,     0.21421,     0.21522,\n",
       "           0.21622,     0.21722,     0.21822,     0.21922,     0.22022,     0.22122,     0.22222,     0.22322,     0.22422,     0.22523,     0.22623,     0.22723,     0.22823,     0.22923,     0.23023,     0.23123,     0.23223,     0.23323,     0.23423,     0.23524,     0.23624,     0.23724,     0.23824,     0.23924,\n",
       "           0.24024,     0.24124,     0.24224,     0.24324,     0.24424,     0.24525,     0.24625,     0.24725,     0.24825,     0.24925,     0.25025,     0.25125,     0.25225,     0.25325,     0.25425,     0.25526,     0.25626,     0.25726,     0.25826,     0.25926,     0.26026,     0.26126,     0.26226,     0.26326,\n",
       "           0.26426,     0.26527,     0.26627,     0.26727,     0.26827,     0.26927,     0.27027,     0.27127,     0.27227,     0.27327,     0.27427,     0.27528,     0.27628,     0.27728,     0.27828,     0.27928,     0.28028,     0.28128,     0.28228,     0.28328,     0.28428,     0.28529,     0.28629,     0.28729,\n",
       "           0.28829,     0.28929,     0.29029,     0.29129,     0.29229,     0.29329,     0.29429,      0.2953,      0.2963,      0.2973,      0.2983,      0.2993,      0.3003,      0.3013,      0.3023,      0.3033,      0.3043,     0.30531,     0.30631,     0.30731,     0.30831,     0.30931,     0.31031,     0.31131,\n",
       "           0.31231,     0.31331,     0.31431,     0.31532,     0.31632,     0.31732,     0.31832,     0.31932,     0.32032,     0.32132,     0.32232,     0.32332,     0.32432,     0.32533,     0.32633,     0.32733,     0.32833,     0.32933,     0.33033,     0.33133,     0.33233,     0.33333,     0.33433,     0.33534,\n",
       "           0.33634,     0.33734,     0.33834,     0.33934,     0.34034,     0.34134,     0.34234,     0.34334,     0.34434,     0.34535,     0.34635,     0.34735,     0.34835,     0.34935,     0.35035,     0.35135,     0.35235,     0.35335,     0.35435,     0.35536,     0.35636,     0.35736,     0.35836,     0.35936,\n",
       "           0.36036,     0.36136,     0.36236,     0.36336,     0.36436,     0.36537,     0.36637,     0.36737,     0.36837,     0.36937,     0.37037,     0.37137,     0.37237,     0.37337,     0.37437,     0.37538,     0.37638,     0.37738,     0.37838,     0.37938,     0.38038,     0.38138,     0.38238,     0.38338,\n",
       "           0.38438,     0.38539,     0.38639,     0.38739,     0.38839,     0.38939,     0.39039,     0.39139,     0.39239,     0.39339,     0.39439,      0.3954,      0.3964,      0.3974,      0.3984,      0.3994,      0.4004,      0.4014,      0.4024,      0.4034,      0.4044,     0.40541,     0.40641,     0.40741,\n",
       "           0.40841,     0.40941,     0.41041,     0.41141,     0.41241,     0.41341,     0.41441,     0.41542,     0.41642,     0.41742,     0.41842,     0.41942,     0.42042,     0.42142,     0.42242,     0.42342,     0.42442,     0.42543,     0.42643,     0.42743,     0.42843,     0.42943,     0.43043,     0.43143,\n",
       "           0.43243,     0.43343,     0.43443,     0.43544,     0.43644,     0.43744,     0.43844,     0.43944,     0.44044,     0.44144,     0.44244,     0.44344,     0.44444,     0.44545,     0.44645,     0.44745,     0.44845,     0.44945,     0.45045,     0.45145,     0.45245,     0.45345,     0.45445,     0.45546,\n",
       "           0.45646,     0.45746,     0.45846,     0.45946,     0.46046,     0.46146,     0.46246,     0.46346,     0.46446,     0.46547,     0.46647,     0.46747,     0.46847,     0.46947,     0.47047,     0.47147,     0.47247,     0.47347,     0.47447,     0.47548,     0.47648,     0.47748,     0.47848,     0.47948,\n",
       "           0.48048,     0.48148,     0.48248,     0.48348,     0.48448,     0.48549,     0.48649,     0.48749,     0.48849,     0.48949,     0.49049,     0.49149,     0.49249,     0.49349,     0.49449,      0.4955,      0.4965,      0.4975,      0.4985,      0.4995,      0.5005,      0.5015,      0.5025,      0.5035,\n",
       "            0.5045,     0.50551,     0.50651,     0.50751,     0.50851,     0.50951,     0.51051,     0.51151,     0.51251,     0.51351,     0.51451,     0.51552,     0.51652,     0.51752,     0.51852,     0.51952,     0.52052,     0.52152,     0.52252,     0.52352,     0.52452,     0.52553,     0.52653,     0.52753,\n",
       "           0.52853,     0.52953,     0.53053,     0.53153,     0.53253,     0.53353,     0.53453,     0.53554,     0.53654,     0.53754,     0.53854,     0.53954,     0.54054,     0.54154,     0.54254,     0.54354,     0.54454,     0.54555,     0.54655,     0.54755,     0.54855,     0.54955,     0.55055,     0.55155,\n",
       "           0.55255,     0.55355,     0.55455,     0.55556,     0.55656,     0.55756,     0.55856,     0.55956,     0.56056,     0.56156,     0.56256,     0.56356,     0.56456,     0.56557,     0.56657,     0.56757,     0.56857,     0.56957,     0.57057,     0.57157,     0.57257,     0.57357,     0.57457,     0.57558,\n",
       "           0.57658,     0.57758,     0.57858,     0.57958,     0.58058,     0.58158,     0.58258,     0.58358,     0.58458,     0.58559,     0.58659,     0.58759,     0.58859,     0.58959,     0.59059,     0.59159,     0.59259,     0.59359,     0.59459,      0.5956,      0.5966,      0.5976,      0.5986,      0.5996,\n",
       "            0.6006,      0.6016,      0.6026,      0.6036,      0.6046,     0.60561,     0.60661,     0.60761,     0.60861,     0.60961,     0.61061,     0.61161,     0.61261,     0.61361,     0.61461,     0.61562,     0.61662,     0.61762,     0.61862,     0.61962,     0.62062,     0.62162,     0.62262,     0.62362,\n",
       "           0.62462,     0.62563,     0.62663,     0.62763,     0.62863,     0.62963,     0.63063,     0.63163,     0.63263,     0.63363,     0.63463,     0.63564,     0.63664,     0.63764,     0.63864,     0.63964,     0.64064,     0.64164,     0.64264,     0.64364,     0.64464,     0.64565,     0.64665,     0.64765,\n",
       "           0.64865,     0.64965,     0.65065,     0.65165,     0.65265,     0.65365,     0.65465,     0.65566,     0.65666,     0.65766,     0.65866,     0.65966,     0.66066,     0.66166,     0.66266,     0.66366,     0.66466,     0.66567,     0.66667,     0.66767,     0.66867,     0.66967,     0.67067,     0.67167,\n",
       "           0.67267,     0.67367,     0.67467,     0.67568,     0.67668,     0.67768,     0.67868,     0.67968,     0.68068,     0.68168,     0.68268,     0.68368,     0.68468,     0.68569,     0.68669,     0.68769,     0.68869,     0.68969,     0.69069,     0.69169,     0.69269,     0.69369,     0.69469,      0.6957,\n",
       "            0.6967,      0.6977,      0.6987,      0.6997,      0.7007,      0.7017,      0.7027,      0.7037,      0.7047,     0.70571,     0.70671,     0.70771,     0.70871,     0.70971,     0.71071,     0.71171,     0.71271,     0.71371,     0.71471,     0.71572,     0.71672,     0.71772,     0.71872,     0.71972,\n",
       "           0.72072,     0.72172,     0.72272,     0.72372,     0.72472,     0.72573,     0.72673,     0.72773,     0.72873,     0.72973,     0.73073,     0.73173,     0.73273,     0.73373,     0.73473,     0.73574,     0.73674,     0.73774,     0.73874,     0.73974,     0.74074,     0.74174,     0.74274,     0.74374,\n",
       "           0.74474,     0.74575,     0.74675,     0.74775,     0.74875,     0.74975,     0.75075,     0.75175,     0.75275,     0.75375,     0.75475,     0.75576,     0.75676,     0.75776,     0.75876,     0.75976,     0.76076,     0.76176,     0.76276,     0.76376,     0.76476,     0.76577,     0.76677,     0.76777,\n",
       "           0.76877,     0.76977,     0.77077,     0.77177,     0.77277,     0.77377,     0.77477,     0.77578,     0.77678,     0.77778,     0.77878,     0.77978,     0.78078,     0.78178,     0.78278,     0.78378,     0.78478,     0.78579,     0.78679,     0.78779,     0.78879,     0.78979,     0.79079,     0.79179,\n",
       "           0.79279,     0.79379,     0.79479,      0.7958,      0.7968,      0.7978,      0.7988,      0.7998,      0.8008,      0.8018,      0.8028,      0.8038,      0.8048,     0.80581,     0.80681,     0.80781,     0.80881,     0.80981,     0.81081,     0.81181,     0.81281,     0.81381,     0.81481,     0.81582,\n",
       "           0.81682,     0.81782,     0.81882,     0.81982,     0.82082,     0.82182,     0.82282,     0.82382,     0.82482,     0.82583,     0.82683,     0.82783,     0.82883,     0.82983,     0.83083,     0.83183,     0.83283,     0.83383,     0.83483,     0.83584,     0.83684,     0.83784,     0.83884,     0.83984,\n",
       "           0.84084,     0.84184,     0.84284,     0.84384,     0.84484,     0.84585,     0.84685,     0.84785,     0.84885,     0.84985,     0.85085,     0.85185,     0.85285,     0.85385,     0.85485,     0.85586,     0.85686,     0.85786,     0.85886,     0.85986,     0.86086,     0.86186,     0.86286,     0.86386,\n",
       "           0.86486,     0.86587,     0.86687,     0.86787,     0.86887,     0.86987,     0.87087,     0.87187,     0.87287,     0.87387,     0.87487,     0.87588,     0.87688,     0.87788,     0.87888,     0.87988,     0.88088,     0.88188,     0.88288,     0.88388,     0.88488,     0.88589,     0.88689,     0.88789,\n",
       "           0.88889,     0.88989,     0.89089,     0.89189,     0.89289,     0.89389,     0.89489,      0.8959,      0.8969,      0.8979,      0.8989,      0.8999,      0.9009,      0.9019,      0.9029,      0.9039,      0.9049,     0.90591,     0.90691,     0.90791,     0.90891,     0.90991,     0.91091,     0.91191,\n",
       "           0.91291,     0.91391,     0.91491,     0.91592,     0.91692,     0.91792,     0.91892,     0.91992,     0.92092,     0.92192,     0.92292,     0.92392,     0.92492,     0.92593,     0.92693,     0.92793,     0.92893,     0.92993,     0.93093,     0.93193,     0.93293,     0.93393,     0.93493,     0.93594,\n",
       "           0.93694,     0.93794,     0.93894,     0.93994,     0.94094,     0.94194,     0.94294,     0.94394,     0.94494,     0.94595,     0.94695,     0.94795,     0.94895,     0.94995,     0.95095,     0.95195,     0.95295,     0.95395,     0.95495,     0.95596,     0.95696,     0.95796,     0.95896,     0.95996,\n",
       "           0.96096,     0.96196,     0.96296,     0.96396,     0.96496,     0.96597,     0.96697,     0.96797,     0.96897,     0.96997,     0.97097,     0.97197,     0.97297,     0.97397,     0.97497,     0.97598,     0.97698,     0.97798,     0.97898,     0.97998,     0.98098,     0.98198,     0.98298,     0.98398,\n",
       "           0.98498,     0.98599,     0.98699,     0.98799,     0.98899,     0.98999,     0.99099,     0.99199,     0.99299,     0.99399,     0.99499,       0.996,       0.997,       0.998,       0.999,           1]), array([[          1,           1,           1,           1,           1,           1,           1,           1,           1,           1,           1,           1,           1,           1,           1,           1,           1,     0.94444,     0.94444,     0.94444,     0.94444,     0.94444,     0.94444,\n",
       "            0.94444,     0.94444,     0.94444,     0.94444,     0.94444,     0.94444,     0.94444,     0.94444,     0.94444,     0.94444,     0.94444,     0.94444,     0.94444,     0.94444,     0.94444,     0.94444,     0.94444,     0.94444,     0.94444,     0.94444,     0.94444,     0.94444,     0.94444,\n",
       "            0.94444,     0.94444,     0.94444,     0.94444,     0.94444,     0.94444,     0.94444,     0.94444,     0.94444,     0.94444,     0.91667,     0.91667,     0.91667,     0.91667,     0.91667,     0.91667,     0.91667,     0.91667,     0.91667,     0.91667,     0.91667,     0.91667,     0.91667,\n",
       "            0.91667,     0.91667,     0.91667,       0.875,       0.875,       0.875,       0.875,       0.875,       0.875,       0.875,       0.875,       0.875,       0.875,       0.875,       0.875,       0.875,       0.875,       0.875,       0.875,       0.875,       0.875,       0.875,       0.875,\n",
       "            0.86486,     0.86486,     0.86486,     0.86486,     0.86486,     0.86486,     0.86486,     0.86486,     0.86486,     0.86486,     0.86486,     0.86486,     0.86486,     0.83721,     0.83721,     0.83721,     0.83721,     0.83721,     0.83721,     0.83721,     0.83721,     0.83721,     0.83721,\n",
       "            0.83721,     0.83721,     0.83721,     0.81633,     0.81633,     0.81633,     0.81633,     0.81633,     0.81633,     0.81633,     0.81633,     0.81633,     0.81633,     0.81633,     0.81633,     0.81633,     0.79032,     0.79032,     0.79032,     0.79032,     0.79032,     0.79032,     0.79032,\n",
       "            0.79032,     0.79032,     0.79032,     0.79032,     0.79032,     0.79032,     0.79032,     0.79032,     0.79032,     0.79032,     0.79032,     0.79032,     0.79032,     0.79032,     0.79032,     0.79032,     0.79032,     0.79032,     0.79032,     0.79032,     0.79032,     0.79032,     0.78378,\n",
       "            0.78378,     0.78378,     0.78378,     0.78378,     0.78378,     0.78378,     0.78378,     0.78378,     0.78378,     0.78378,     0.78378,     0.78378,     0.78378,     0.78378,     0.78378,     0.78378,     0.78378,     0.78378,     0.78378,     0.78378,     0.78378,     0.78378,     0.78378,\n",
       "            0.78378,     0.78378,     0.78378,     0.78378,     0.78378,     0.78205,     0.78205,     0.78205,     0.78205,     0.78205,     0.78205,     0.78205,     0.78205,     0.78205,     0.78205,     0.77778,     0.77778,     0.77778,     0.77778,     0.77778,     0.77778,     0.77778,     0.77174,\n",
       "            0.77174,     0.77174,     0.77174,     0.77174,     0.77174,     0.77174,     0.77174,     0.77174,     0.77174,     0.77174,     0.77174,     0.77174,     0.77174,     0.77174,     0.77174,     0.77174,     0.77174,     0.77174,     0.77174,     0.77174,     0.77174,     0.77174,     0.77174,\n",
       "            0.77174,     0.77174,     0.76596,     0.76596,     0.76596,     0.76289,     0.76289,     0.76289,     0.76289,     0.76289,     0.76289,        0.76,        0.76,        0.76,        0.76,        0.76,        0.76,        0.76,     0.75238,     0.75238,     0.75238,     0.75238,     0.75238,\n",
       "            0.75238,     0.75238,     0.75238,     0.75238,     0.75238,     0.69828,     0.69828,     0.69828,     0.69828,     0.69828,     0.69828,     0.67213,     0.67213,     0.67213,     0.65957,     0.65957,     0.65957,     0.65957,     0.65957,     0.65957,     0.65957,     0.65957,     0.65957,\n",
       "            0.65957,     0.65957,     0.65957,     0.65957,     0.65957,     0.65957,     0.65957,     0.65957,     0.65957,     0.65957,     0.65957,     0.65957,     0.65957,     0.65957,     0.65957,     0.65957,     0.65957,     0.65957,     0.65957,     0.65957,     0.65957,     0.65957,     0.65957,\n",
       "            0.65957,     0.65957,     0.65957,     0.65957,     0.65306,     0.65306,     0.65306,     0.65306,     0.65306,     0.65306,     0.65306,     0.65306,     0.65306,     0.65306,     0.64286,     0.64286,     0.64286,     0.64286,     0.64286,     0.64286,     0.64286,     0.64286,     0.64286,\n",
       "            0.64286,     0.64103,     0.64103,     0.64103,     0.62209,     0.62209,     0.62209,     0.62209,     0.62209,     0.62209,     0.62209,     0.62209,     0.62209,     0.62209,     0.62209,     0.62209,     0.62209,     0.62209,     0.62209,     0.62209,     0.62209,     0.62209,     0.62209,\n",
       "            0.62209,     0.62209,     0.62209,     0.62209,     0.61364,     0.61364,     0.61364,     0.61236,     0.61236,     0.61236,     0.61111,     0.61111,     0.61111,     0.60656,     0.60656,     0.60656,     0.60656,     0.60541,     0.60541,     0.60541,     0.59686,     0.59686,     0.59686,\n",
       "            0.59686,     0.59686,     0.59686,     0.59487,     0.59487,     0.59487,     0.59487,     0.59487,     0.59487,     0.59487,       0.585,       0.585,       0.585,     0.58416,     0.58416,     0.58416,     0.58049,     0.58049,     0.58049,     0.58049,     0.57273,     0.57273,     0.57273,\n",
       "            0.57273,     0.57273,     0.57273,     0.57273,     0.57273,     0.57273,     0.57273,     0.57273,     0.57273,     0.57273,     0.57273,     0.57273,     0.57273,     0.57273,     0.57273,     0.57273,     0.57273,     0.57273,     0.57273,     0.57273,     0.56444,     0.56444,     0.56444,\n",
       "            0.55652,     0.55652,     0.55652,     0.55365,     0.55365,     0.55365,     0.55319,     0.55319,     0.55319,     0.55319,     0.55274,     0.55274,     0.55274,      0.5523,      0.5523,      0.5523,     0.51751,     0.51751,     0.51751,     0.51737,     0.51737,     0.51737,     0.51737,\n",
       "            0.49632,     0.49632,     0.49632,     0.49097,     0.49097,     0.49097,     0.48421,     0.48421,     0.48421,     0.48421,     0.48421,     0.48421,     0.48421,      0.4744,      0.4744,      0.4744,     0.47297,     0.47297,     0.47297,     0.45779,     0.45779,     0.45779,      0.4441,\n",
       "             0.4441,      0.4441,      0.4441,      0.4441,      0.4441,      0.4441,     0.44377,     0.44377,     0.44377,     0.44377,     0.44377,     0.44377,     0.44377,     0.44377,     0.44377,     0.44377,     0.43881,     0.43881,     0.43881,     0.40771,     0.40771,     0.40771,     0.40701,\n",
       "            0.40701,     0.40701,     0.40701,     0.40701,     0.40701,     0.40701,     0.40701,     0.40701,     0.40701,     0.40209,     0.40209,     0.40209,     0.40209,     0.40209,     0.40209,     0.40209,     0.40209,     0.40209,     0.40209,     0.39295,     0.39295,     0.39295,     0.39295,\n",
       "            0.39295,     0.39295,     0.38765,     0.38765,     0.38765,     0.38499,     0.38499,     0.38499,     0.38499,     0.38499,     0.38499,     0.38499,     0.38462,     0.38462,     0.38462,     0.38152,     0.38152,     0.38152,     0.38009,     0.38009,     0.38009,     0.38009,     0.38009,\n",
       "            0.38009,     0.38009,     0.38009,     0.38009,     0.38009,     0.38009,     0.38009,     0.38009,     0.38009,     0.38009,     0.38009,     0.38009,     0.38009,     0.38009,     0.38009,     0.38009,     0.38009,     0.38009,     0.37723,     0.37723,     0.37723,     0.37037,     0.37037,\n",
       "            0.37037,     0.37037,     0.36421,     0.36421,     0.36421,     0.36421,     0.36421,     0.36421,     0.36421,     0.36421,     0.36421,     0.36402,     0.36402,     0.36402,     0.36402,     0.35787,     0.35787,     0.35787,     0.35412,     0.35412,     0.35412,     0.35388,     0.35388,\n",
       "            0.35388,     0.35388,     0.35388,     0.35388,     0.35388,     0.33271,     0.33271,     0.33271,     0.32149,     0.32149,     0.32149,     0.32149,     0.32149,     0.32149,     0.31271,     0.31271,     0.31271,     0.31271,     0.30343,     0.30343,     0.30343,     0.30343,     0.30343,\n",
       "            0.30343,     0.30343,     0.30343,     0.30343,     0.30343,     0.30343,     0.30343,     0.30343,     0.30161,     0.30161,     0.30161,     0.30032,     0.30032,     0.30032,     0.28899,     0.28899,     0.28899,     0.28899,     0.28744,     0.28744,     0.28744,     0.27866,     0.27866,\n",
       "            0.27866,     0.27866,     0.27866,     0.27866,     0.27337,     0.27337,     0.27337,     0.27337,     0.27133,     0.27133,     0.27133,     0.26934,     0.26934,     0.26934,     0.26168,     0.26168,     0.26168,     0.26127,     0.26127,     0.26127,     0.26127,     0.25979,     0.25979,\n",
       "            0.25979,     0.25979,     0.25979,     0.25979,     0.25221,     0.25221,     0.25221,     0.25094,     0.25094,     0.25094,     0.25094,     0.24696,     0.24696,     0.24696,     0.24696,     0.24696,     0.24696,     0.24638,     0.24638,     0.24638,     0.23754,     0.23754,     0.23754,\n",
       "            0.23754,     0.23068,     0.23068,     0.23068,     0.22354,     0.22354,     0.22354,     0.20253,     0.20253,     0.20253,     0.19736,     0.19736,     0.19736,     0.19736,     0.19467,     0.19467,     0.19467,     0.19467,     0.19467,     0.19467,     0.19467,     0.19467,     0.19467,\n",
       "            0.18346,     0.18346,     0.18346,     0.18346,     0.18151,     0.18151,     0.18151,     0.17769,     0.17769,     0.17769,     0.15686,     0.15686,     0.15686,     0.15522,     0.15522,     0.15522,     0.15522,     0.14708,     0.14708,     0.14708,     0.14708,     0.14708,     0.14708,\n",
       "            0.14706,     0.14706,     0.14706,     0.14454,     0.14454,     0.14454,     0.14454,      0.1414,      0.1414,      0.1414,     0.13774,     0.13774,     0.13774,     0.13286,     0.13286,     0.13286,      0.1241,      0.1241,      0.1241,      0.1241,     0.12137,     0.12137,     0.12137,\n",
       "            0.11774,     0.11774,     0.11774,     0.11254,     0.11254,     0.11254,     0.11095,     0.11095,     0.11095,     0.11095,     0.10693,     0.10693,     0.10693,    0.097263,    0.097263,    0.097263,    0.095749,    0.095749,    0.095749,    0.091805,    0.091805,    0.091805,    0.091805,\n",
       "           0.086506,    0.086506,    0.086506,    0.085207,    0.085207,    0.085207,    0.079062,    0.079062,    0.079062,    0.078816,    0.078816,    0.078816,    0.078816,    0.066892,    0.066892,    0.066892,    0.065641,    0.065641,    0.065641,    0.063576,    0.063576,    0.063576,    0.056679,\n",
       "           0.056679,    0.056679,    0.056679,    0.055251,    0.055251,    0.055251,     0.05489,     0.05489,     0.05489,    0.048231,    0.048231,    0.048231,    0.046926,    0.046926,    0.046926,    0.046926,    0.040776,    0.040776,    0.040776,    0.040605,    0.040605,    0.040605,    0.039712,\n",
       "           0.039712,    0.039712,    0.039712,    0.038284,    0.038284,    0.038284,       0.038,       0.038,       0.038,    0.033796,    0.033796,    0.033796,    0.029567,    0.029567,    0.029567,    0.029567,    0.028904,    0.028904,    0.028904,    0.027723,    0.027723,    0.027723,    0.027579,\n",
       "           0.027579,    0.027579,    0.027406,    0.027244,    0.027081,    0.026919,    0.026757,    0.026595,    0.026433,    0.026271,    0.026108,    0.025946,    0.025784,    0.025622,     0.02546,    0.025298,    0.025135,    0.024973,    0.024811,    0.024649,    0.024487,    0.024325,    0.024162,\n",
       "              0.024,    0.023838,    0.023676,    0.023514,    0.023352,    0.023189,    0.023027,    0.022865,    0.022703,    0.022541,    0.022379,    0.022216,    0.022054,    0.021892,     0.02173,    0.021568,    0.021406,    0.021243,    0.021081,    0.020919,    0.020757,    0.020595,    0.020433,\n",
       "            0.02027,    0.020108,    0.019946,    0.019784,    0.019622,     0.01946,    0.019297,    0.019135,    0.018973,    0.018811,    0.018649,    0.018487,    0.018325,    0.018162,       0.018,    0.017838,    0.017676,    0.017514,    0.017352,    0.017189,    0.017027,    0.016865,    0.016703,\n",
       "           0.016541,    0.016379,    0.016216,    0.016054,    0.015892,     0.01573,    0.015568,    0.015406,    0.015243,    0.015081,    0.014919,    0.014757,    0.014595,    0.014433,     0.01427,    0.014108,    0.013946,    0.013784,    0.013622,     0.01346,    0.013297,    0.013135,    0.012973,\n",
       "           0.012811,    0.012649,    0.012487,    0.012324,    0.012162,       0.012,    0.011838,    0.011676,    0.011514,    0.011351,    0.011189,    0.011027,    0.010865,    0.010703,    0.010541,    0.010378,    0.010216,    0.010054,    0.009892,   0.0097298,   0.0095677,   0.0094055,   0.0092433,\n",
       "          0.0090812,    0.008919,   0.0087568,   0.0085947,   0.0084325,   0.0082704,   0.0081082,    0.007946,   0.0077839,   0.0076217,   0.0074595,   0.0072974,   0.0071352,    0.006973,   0.0068109,   0.0066487,   0.0064866,   0.0063244,   0.0061622,   0.0060001,   0.0058379,   0.0056757,   0.0055136,\n",
       "          0.0053514,   0.0051892,   0.0050271,   0.0048649,   0.0047027,   0.0045406,   0.0043784,   0.0042163,   0.0040541,   0.0038919,   0.0037298,   0.0035676,   0.0034054,   0.0032433,   0.0030811,   0.0029189,   0.0027568,   0.0025946,   0.0024325,   0.0022703,   0.0021081,    0.001946,   0.0017838,\n",
       "          0.0016216,   0.0014595,   0.0012973,   0.0011351,  0.00097298,  0.00081082,  0.00064866,  0.00048649,  0.00032433,  0.00016216,           0]]), 'Recall', 'Precision'], [array([          0,    0.001001,    0.002002,    0.003003,    0.004004,    0.005005,    0.006006,    0.007007,    0.008008,    0.009009,     0.01001,    0.011011,    0.012012,    0.013013,    0.014014,    0.015015,    0.016016,    0.017017,    0.018018,    0.019019,     0.02002,    0.021021,    0.022022,    0.023023,\n",
       "          0.024024,    0.025025,    0.026026,    0.027027,    0.028028,    0.029029,     0.03003,    0.031031,    0.032032,    0.033033,    0.034034,    0.035035,    0.036036,    0.037037,    0.038038,    0.039039,     0.04004,    0.041041,    0.042042,    0.043043,    0.044044,    0.045045,    0.046046,    0.047047,\n",
       "          0.048048,    0.049049,     0.05005,    0.051051,    0.052052,    0.053053,    0.054054,    0.055055,    0.056056,    0.057057,    0.058058,    0.059059,     0.06006,    0.061061,    0.062062,    0.063063,    0.064064,    0.065065,    0.066066,    0.067067,    0.068068,    0.069069,     0.07007,    0.071071,\n",
       "          0.072072,    0.073073,    0.074074,    0.075075,    0.076076,    0.077077,    0.078078,    0.079079,     0.08008,    0.081081,    0.082082,    0.083083,    0.084084,    0.085085,    0.086086,    0.087087,    0.088088,    0.089089,     0.09009,    0.091091,    0.092092,    0.093093,    0.094094,    0.095095,\n",
       "          0.096096,    0.097097,    0.098098,    0.099099,      0.1001,      0.1011,      0.1021,      0.1031,      0.1041,     0.10511,     0.10611,     0.10711,     0.10811,     0.10911,     0.11011,     0.11111,     0.11211,     0.11311,     0.11411,     0.11512,     0.11612,     0.11712,     0.11812,     0.11912,\n",
       "           0.12012,     0.12112,     0.12212,     0.12312,     0.12412,     0.12513,     0.12613,     0.12713,     0.12813,     0.12913,     0.13013,     0.13113,     0.13213,     0.13313,     0.13413,     0.13514,     0.13614,     0.13714,     0.13814,     0.13914,     0.14014,     0.14114,     0.14214,     0.14314,\n",
       "           0.14414,     0.14515,     0.14615,     0.14715,     0.14815,     0.14915,     0.15015,     0.15115,     0.15215,     0.15315,     0.15415,     0.15516,     0.15616,     0.15716,     0.15816,     0.15916,     0.16016,     0.16116,     0.16216,     0.16316,     0.16416,     0.16517,     0.16617,     0.16717,\n",
       "           0.16817,     0.16917,     0.17017,     0.17117,     0.17217,     0.17317,     0.17417,     0.17518,     0.17618,     0.17718,     0.17818,     0.17918,     0.18018,     0.18118,     0.18218,     0.18318,     0.18418,     0.18519,     0.18619,     0.18719,     0.18819,     0.18919,     0.19019,     0.19119,\n",
       "           0.19219,     0.19319,     0.19419,      0.1952,      0.1962,      0.1972,      0.1982,      0.1992,      0.2002,      0.2012,      0.2022,      0.2032,      0.2042,     0.20521,     0.20621,     0.20721,     0.20821,     0.20921,     0.21021,     0.21121,     0.21221,     0.21321,     0.21421,     0.21522,\n",
       "           0.21622,     0.21722,     0.21822,     0.21922,     0.22022,     0.22122,     0.22222,     0.22322,     0.22422,     0.22523,     0.22623,     0.22723,     0.22823,     0.22923,     0.23023,     0.23123,     0.23223,     0.23323,     0.23423,     0.23524,     0.23624,     0.23724,     0.23824,     0.23924,\n",
       "           0.24024,     0.24124,     0.24224,     0.24324,     0.24424,     0.24525,     0.24625,     0.24725,     0.24825,     0.24925,     0.25025,     0.25125,     0.25225,     0.25325,     0.25425,     0.25526,     0.25626,     0.25726,     0.25826,     0.25926,     0.26026,     0.26126,     0.26226,     0.26326,\n",
       "           0.26426,     0.26527,     0.26627,     0.26727,     0.26827,     0.26927,     0.27027,     0.27127,     0.27227,     0.27327,     0.27427,     0.27528,     0.27628,     0.27728,     0.27828,     0.27928,     0.28028,     0.28128,     0.28228,     0.28328,     0.28428,     0.28529,     0.28629,     0.28729,\n",
       "           0.28829,     0.28929,     0.29029,     0.29129,     0.29229,     0.29329,     0.29429,      0.2953,      0.2963,      0.2973,      0.2983,      0.2993,      0.3003,      0.3013,      0.3023,      0.3033,      0.3043,     0.30531,     0.30631,     0.30731,     0.30831,     0.30931,     0.31031,     0.31131,\n",
       "           0.31231,     0.31331,     0.31431,     0.31532,     0.31632,     0.31732,     0.31832,     0.31932,     0.32032,     0.32132,     0.32232,     0.32332,     0.32432,     0.32533,     0.32633,     0.32733,     0.32833,     0.32933,     0.33033,     0.33133,     0.33233,     0.33333,     0.33433,     0.33534,\n",
       "           0.33634,     0.33734,     0.33834,     0.33934,     0.34034,     0.34134,     0.34234,     0.34334,     0.34434,     0.34535,     0.34635,     0.34735,     0.34835,     0.34935,     0.35035,     0.35135,     0.35235,     0.35335,     0.35435,     0.35536,     0.35636,     0.35736,     0.35836,     0.35936,\n",
       "           0.36036,     0.36136,     0.36236,     0.36336,     0.36436,     0.36537,     0.36637,     0.36737,     0.36837,     0.36937,     0.37037,     0.37137,     0.37237,     0.37337,     0.37437,     0.37538,     0.37638,     0.37738,     0.37838,     0.37938,     0.38038,     0.38138,     0.38238,     0.38338,\n",
       "           0.38438,     0.38539,     0.38639,     0.38739,     0.38839,     0.38939,     0.39039,     0.39139,     0.39239,     0.39339,     0.39439,      0.3954,      0.3964,      0.3974,      0.3984,      0.3994,      0.4004,      0.4014,      0.4024,      0.4034,      0.4044,     0.40541,     0.40641,     0.40741,\n",
       "           0.40841,     0.40941,     0.41041,     0.41141,     0.41241,     0.41341,     0.41441,     0.41542,     0.41642,     0.41742,     0.41842,     0.41942,     0.42042,     0.42142,     0.42242,     0.42342,     0.42442,     0.42543,     0.42643,     0.42743,     0.42843,     0.42943,     0.43043,     0.43143,\n",
       "           0.43243,     0.43343,     0.43443,     0.43544,     0.43644,     0.43744,     0.43844,     0.43944,     0.44044,     0.44144,     0.44244,     0.44344,     0.44444,     0.44545,     0.44645,     0.44745,     0.44845,     0.44945,     0.45045,     0.45145,     0.45245,     0.45345,     0.45445,     0.45546,\n",
       "           0.45646,     0.45746,     0.45846,     0.45946,     0.46046,     0.46146,     0.46246,     0.46346,     0.46446,     0.46547,     0.46647,     0.46747,     0.46847,     0.46947,     0.47047,     0.47147,     0.47247,     0.47347,     0.47447,     0.47548,     0.47648,     0.47748,     0.47848,     0.47948,\n",
       "           0.48048,     0.48148,     0.48248,     0.48348,     0.48448,     0.48549,     0.48649,     0.48749,     0.48849,     0.48949,     0.49049,     0.49149,     0.49249,     0.49349,     0.49449,      0.4955,      0.4965,      0.4975,      0.4985,      0.4995,      0.5005,      0.5015,      0.5025,      0.5035,\n",
       "            0.5045,     0.50551,     0.50651,     0.50751,     0.50851,     0.50951,     0.51051,     0.51151,     0.51251,     0.51351,     0.51451,     0.51552,     0.51652,     0.51752,     0.51852,     0.51952,     0.52052,     0.52152,     0.52252,     0.52352,     0.52452,     0.52553,     0.52653,     0.52753,\n",
       "           0.52853,     0.52953,     0.53053,     0.53153,     0.53253,     0.53353,     0.53453,     0.53554,     0.53654,     0.53754,     0.53854,     0.53954,     0.54054,     0.54154,     0.54254,     0.54354,     0.54454,     0.54555,     0.54655,     0.54755,     0.54855,     0.54955,     0.55055,     0.55155,\n",
       "           0.55255,     0.55355,     0.55455,     0.55556,     0.55656,     0.55756,     0.55856,     0.55956,     0.56056,     0.56156,     0.56256,     0.56356,     0.56456,     0.56557,     0.56657,     0.56757,     0.56857,     0.56957,     0.57057,     0.57157,     0.57257,     0.57357,     0.57457,     0.57558,\n",
       "           0.57658,     0.57758,     0.57858,     0.57958,     0.58058,     0.58158,     0.58258,     0.58358,     0.58458,     0.58559,     0.58659,     0.58759,     0.58859,     0.58959,     0.59059,     0.59159,     0.59259,     0.59359,     0.59459,      0.5956,      0.5966,      0.5976,      0.5986,      0.5996,\n",
       "            0.6006,      0.6016,      0.6026,      0.6036,      0.6046,     0.60561,     0.60661,     0.60761,     0.60861,     0.60961,     0.61061,     0.61161,     0.61261,     0.61361,     0.61461,     0.61562,     0.61662,     0.61762,     0.61862,     0.61962,     0.62062,     0.62162,     0.62262,     0.62362,\n",
       "           0.62462,     0.62563,     0.62663,     0.62763,     0.62863,     0.62963,     0.63063,     0.63163,     0.63263,     0.63363,     0.63463,     0.63564,     0.63664,     0.63764,     0.63864,     0.63964,     0.64064,     0.64164,     0.64264,     0.64364,     0.64464,     0.64565,     0.64665,     0.64765,\n",
       "           0.64865,     0.64965,     0.65065,     0.65165,     0.65265,     0.65365,     0.65465,     0.65566,     0.65666,     0.65766,     0.65866,     0.65966,     0.66066,     0.66166,     0.66266,     0.66366,     0.66466,     0.66567,     0.66667,     0.66767,     0.66867,     0.66967,     0.67067,     0.67167,\n",
       "           0.67267,     0.67367,     0.67467,     0.67568,     0.67668,     0.67768,     0.67868,     0.67968,     0.68068,     0.68168,     0.68268,     0.68368,     0.68468,     0.68569,     0.68669,     0.68769,     0.68869,     0.68969,     0.69069,     0.69169,     0.69269,     0.69369,     0.69469,      0.6957,\n",
       "            0.6967,      0.6977,      0.6987,      0.6997,      0.7007,      0.7017,      0.7027,      0.7037,      0.7047,     0.70571,     0.70671,     0.70771,     0.70871,     0.70971,     0.71071,     0.71171,     0.71271,     0.71371,     0.71471,     0.71572,     0.71672,     0.71772,     0.71872,     0.71972,\n",
       "           0.72072,     0.72172,     0.72272,     0.72372,     0.72472,     0.72573,     0.72673,     0.72773,     0.72873,     0.72973,     0.73073,     0.73173,     0.73273,     0.73373,     0.73473,     0.73574,     0.73674,     0.73774,     0.73874,     0.73974,     0.74074,     0.74174,     0.74274,     0.74374,\n",
       "           0.74474,     0.74575,     0.74675,     0.74775,     0.74875,     0.74975,     0.75075,     0.75175,     0.75275,     0.75375,     0.75475,     0.75576,     0.75676,     0.75776,     0.75876,     0.75976,     0.76076,     0.76176,     0.76276,     0.76376,     0.76476,     0.76577,     0.76677,     0.76777,\n",
       "           0.76877,     0.76977,     0.77077,     0.77177,     0.77277,     0.77377,     0.77477,     0.77578,     0.77678,     0.77778,     0.77878,     0.77978,     0.78078,     0.78178,     0.78278,     0.78378,     0.78478,     0.78579,     0.78679,     0.78779,     0.78879,     0.78979,     0.79079,     0.79179,\n",
       "           0.79279,     0.79379,     0.79479,      0.7958,      0.7968,      0.7978,      0.7988,      0.7998,      0.8008,      0.8018,      0.8028,      0.8038,      0.8048,     0.80581,     0.80681,     0.80781,     0.80881,     0.80981,     0.81081,     0.81181,     0.81281,     0.81381,     0.81481,     0.81582,\n",
       "           0.81682,     0.81782,     0.81882,     0.81982,     0.82082,     0.82182,     0.82282,     0.82382,     0.82482,     0.82583,     0.82683,     0.82783,     0.82883,     0.82983,     0.83083,     0.83183,     0.83283,     0.83383,     0.83483,     0.83584,     0.83684,     0.83784,     0.83884,     0.83984,\n",
       "           0.84084,     0.84184,     0.84284,     0.84384,     0.84484,     0.84585,     0.84685,     0.84785,     0.84885,     0.84985,     0.85085,     0.85185,     0.85285,     0.85385,     0.85485,     0.85586,     0.85686,     0.85786,     0.85886,     0.85986,     0.86086,     0.86186,     0.86286,     0.86386,\n",
       "           0.86486,     0.86587,     0.86687,     0.86787,     0.86887,     0.86987,     0.87087,     0.87187,     0.87287,     0.87387,     0.87487,     0.87588,     0.87688,     0.87788,     0.87888,     0.87988,     0.88088,     0.88188,     0.88288,     0.88388,     0.88488,     0.88589,     0.88689,     0.88789,\n",
       "           0.88889,     0.88989,     0.89089,     0.89189,     0.89289,     0.89389,     0.89489,      0.8959,      0.8969,      0.8979,      0.8989,      0.8999,      0.9009,      0.9019,      0.9029,      0.9039,      0.9049,     0.90591,     0.90691,     0.90791,     0.90891,     0.90991,     0.91091,     0.91191,\n",
       "           0.91291,     0.91391,     0.91491,     0.91592,     0.91692,     0.91792,     0.91892,     0.91992,     0.92092,     0.92192,     0.92292,     0.92392,     0.92492,     0.92593,     0.92693,     0.92793,     0.92893,     0.92993,     0.93093,     0.93193,     0.93293,     0.93393,     0.93493,     0.93594,\n",
       "           0.93694,     0.93794,     0.93894,     0.93994,     0.94094,     0.94194,     0.94294,     0.94394,     0.94494,     0.94595,     0.94695,     0.94795,     0.94895,     0.94995,     0.95095,     0.95195,     0.95295,     0.95395,     0.95495,     0.95596,     0.95696,     0.95796,     0.95896,     0.95996,\n",
       "           0.96096,     0.96196,     0.96296,     0.96396,     0.96496,     0.96597,     0.96697,     0.96797,     0.96897,     0.96997,     0.97097,     0.97197,     0.97297,     0.97397,     0.97497,     0.97598,     0.97698,     0.97798,     0.97898,     0.97998,     0.98098,     0.98198,     0.98298,     0.98398,\n",
       "           0.98498,     0.98599,     0.98699,     0.98799,     0.98899,     0.98999,     0.99099,     0.99199,     0.99299,     0.99399,     0.99499,       0.996,       0.997,       0.998,       0.999,           1]), array([[   0.053125,    0.053309,    0.077054,    0.096927,     0.11283,     0.12647,     0.14099,     0.15259,     0.16362,     0.17246,     0.18218,     0.18993,     0.19714,     0.20441,     0.21128,     0.21674,     0.22478,     0.23253,     0.23998,     0.24305,     0.24786,      0.2537,     0.25853,\n",
       "            0.26608,     0.27103,     0.27838,     0.28427,     0.28747,     0.29287,     0.29702,     0.30348,     0.30492,     0.30742,     0.31122,     0.31462,     0.32106,      0.3255,     0.33142,     0.33526,     0.33849,     0.34242,     0.34646,      0.3494,      0.3548,     0.35771,      0.3584,\n",
       "            0.35934,     0.36192,     0.36385,     0.36785,     0.36874,     0.37044,     0.37324,       0.378,     0.37904,     0.38152,     0.38492,     0.38304,     0.38632,     0.38833,     0.39036,     0.39138,     0.39221,     0.39332,     0.39763,     0.40093,     0.40209,     0.40215,     0.40264,\n",
       "            0.40025,       0.404,     0.40814,     0.40995,     0.41235,     0.41535,     0.41254,     0.41422,     0.41624,     0.41924,     0.42328,     0.42281,     0.42642,     0.43202,     0.43428,     0.43579,      0.4395,     0.43753,     0.43776,     0.43843,     0.44013,     0.44203,     0.44138,\n",
       "            0.43869,     0.43906,     0.44107,     0.44287,     0.44338,     0.44266,     0.44345,     0.44588,     0.44577,     0.44626,     0.44739,     0.44487,     0.44597,     0.44271,     0.44176,     0.44006,     0.43973,     0.44192,     0.43794,      0.4393,     0.44016,     0.43899,     0.43985,\n",
       "            0.44247,     0.43949,     0.44037,     0.44301,     0.44496,     0.44557,     0.44333,     0.44045,     0.44103,     0.44204,     0.44412,     0.44466,      0.4397,     0.44071,     0.44143,     0.43991,     0.44321,      0.4462,     0.44794,     0.44903,     0.45006,     0.45163,     0.45238,\n",
       "            0.45417,     0.45646,     0.45709,     0.45771,     0.45685,       0.456,     0.45693,     0.45841,     0.45707,     0.45399,     0.45441,     0.45063,     0.45211,     0.45377,     0.45455,     0.45569,     0.45713,     0.45784,     0.45825,     0.45818,     0.45697,     0.45671,     0.45723,\n",
       "              0.458,     0.45962,     0.46115,     0.46331,      0.4638,     0.46417,     0.46208,     0.46185,     0.46275,     0.46286,     0.46138,     0.46212,     0.46269,     0.46323,     0.46371,     0.46421,     0.46449,       0.465,     0.46664,      0.4678,     0.46847,     0.47003,     0.47127,\n",
       "            0.47223,      0.4728,     0.47316,     0.47087,     0.47097,     0.46949,     0.46938,     0.47074,     0.47248,     0.47408,      0.4772,     0.47972,     0.48053,     0.48106,     0.48151,     0.48192,     0.48228,     0.48265,     0.48338,     0.48085,     0.47947,     0.47726,     0.47613,\n",
       "            0.47658,     0.47389,     0.47404,      0.4742,     0.47435,      0.4745,     0.47465,     0.47492,     0.47558,     0.47677,     0.47494,     0.47556,     0.47603,     0.47668,     0.47737,     0.47755,     0.47773,     0.47791,     0.47809,     0.47178,     0.46965,     0.47008,     0.46961,\n",
       "            0.46744,     0.46773,     0.46553,     0.46596,     0.46228,     0.46043,     0.46104,     0.46307,     0.46369,     0.46467,     0.46292,     0.46339,     0.46325,     0.46273,     0.46222,      0.4617,     0.46118,     0.46066,     0.46126,     0.45908,     0.46124,      0.4587,     0.45729,\n",
       "             0.4561,     0.45709,     0.45497,     0.45347,     0.45205,      0.4519,     0.45232,     0.45437,     0.45523,     0.45339,     0.45236,      0.4502,     0.45044,     0.45132,      0.4503,     0.44647,     0.44422,     0.44553,     0.44022,     0.43919,     0.43815,     0.43712,     0.43476,\n",
       "             0.4351,     0.43406,     0.43301,     0.43249,      0.4326,     0.43155,      0.4305,     0.42752,     0.42806,     0.42957,     0.43112,     0.43166,     0.43093,     0.42861,     0.42911,     0.42757,     0.42156,     0.41954,     0.41974,     0.42048,     0.42248,     0.42155,     0.41951,\n",
       "            0.41621,      0.4165,     0.41679,     0.41523,     0.41441,      0.4141,     0.41229,      0.4107,     0.40924,     0.40468,     0.40515,     0.40401,     0.40288,     0.40182,     0.40209,     0.40235,     0.40262,     0.40233,     0.40174,     0.40115,     0.40055,     0.39996,     0.39936,\n",
       "            0.39808,     0.39621,       0.396,      0.3945,     0.39215,     0.39078,     0.38941,      0.3854,     0.38174,       0.382,     0.38225,     0.38187,     0.37884,     0.37898,     0.37913,     0.37927,     0.37941,     0.37956,     0.38185,      0.3796,     0.37922,      0.3812,     0.38154,\n",
       "            0.38187,     0.38232,     0.38294,     0.38004,     0.37852,     0.37764,     0.37677,     0.37589,      0.3756,     0.37628,     0.37652,     0.37677,     0.37701,     0.37746,     0.37798,     0.37923,     0.37957,     0.37997,     0.38051,     0.38128,      0.3818,     0.38205,     0.38231,\n",
       "            0.38256,     0.38309,     0.38248,     0.37844,     0.37528,      0.3742,     0.37311,     0.37203,     0.37224,     0.37278,     0.37312,     0.37346,     0.36945,     0.36835,     0.36725,     0.36615,     0.36488,     0.36139,       0.359,     0.35837,     0.35862,     0.35886,     0.35908,\n",
       "            0.35698,     0.35505,     0.35554,     0.35115,     0.34681,     0.34467,     0.33886,     0.33795,     0.33704,     0.33613,     0.33522,     0.33513,     0.33526,     0.33539,     0.33552,     0.33565,     0.33578,     0.33074,     0.32756,     0.32797,     0.32704,     0.32612,     0.32519,\n",
       "            0.32426,     0.32417,      0.3246,     0.32178,     0.31938,      0.3179,     0.31641,     0.31615,     0.31626,     0.31636,     0.31647,     0.31658,     0.31669,      0.3168,     0.31204,     0.30978,     0.30786,     0.30696,     0.30605,     0.30514,     0.30423,     0.30372,     0.30386,\n",
       "              0.304,     0.30415,     0.30429,     0.30443,     0.30271,     0.30042,     0.29175,      0.2871,      0.2867,     0.28696,     0.28722,     0.28504,      0.2827,     0.28112,     0.27955,     0.27779,     0.27306,     0.26863,     0.26689,     0.26515,     0.26423,     0.26441,      0.2646,\n",
       "            0.26478,     0.26494,     0.26509,     0.26524,     0.26539,     0.26553,     0.26454,     0.26294,     0.26132,     0.26017,      0.2592,     0.25823,     0.25726,     0.25629,     0.25582,     0.25544,     0.25507,     0.25469,     0.25431,     0.25394,     0.25356,     0.25319,     0.25281,\n",
       "            0.25244,     0.25206,     0.25168,     0.25126,     0.25055,     0.24985,     0.24915,     0.24845,     0.24775,     0.24705,     0.24669,     0.24704,     0.24632,     0.24384,     0.24212,     0.24141,      0.2407,     0.23999,     0.23928,     0.23857,     0.23786,      0.2372,     0.23657,\n",
       "            0.23595,     0.23532,      0.2347,     0.23407,     0.23344,     0.23282,      0.2287,     0.22743,     0.22701,     0.22659,     0.22617,     0.22575,     0.22533,     0.22491,     0.22448,     0.22406,     0.22364,     0.22322,     0.22291,     0.22355,     0.22414,     0.22447,     0.22461,\n",
       "             0.2241,     0.22359,     0.22308,     0.22256,     0.22205,     0.22154,     0.22103,     0.22051,        0.22,     0.21925,     0.21822,     0.21719,     0.21616,     0.21513,     0.21172,     0.20885,     0.20755,     0.20625,     0.20494,     0.20518,     0.20526,     0.20533,     0.20541,\n",
       "            0.20548,     0.20556,     0.20563,     0.20571,     0.20437,     0.20287,     0.20136,     0.19931,     0.19666,     0.19505,     0.19439,     0.19372,     0.19306,     0.19239,     0.19172,     0.19106,     0.19039,     0.18505,     0.18516,     0.18527,     0.18538,     0.18549,      0.1856,\n",
       "            0.18571,     0.18582,     0.18593,     0.18604,     0.18431,      0.1825,     0.18062,     0.17699,     0.17229,     0.16899,     0.16715,     0.16531,     0.16504,     0.16326,     0.16047,     0.15912,     0.15826,      0.1574,     0.15654,     0.15568,     0.15482,     0.15354,     0.15167,\n",
       "            0.14979,     0.14859,     0.14814,     0.14769,     0.14724,     0.14678,     0.14633,     0.14588,     0.14542,     0.14497,     0.14452,     0.14406,     0.14361,     0.13718,     0.13528,     0.13336,     0.13215,     0.13219,     0.13224,     0.13228,     0.13232,     0.13237,     0.13241,\n",
       "            0.13245,     0.13249,     0.13253,     0.13258,     0.13263,     0.13268,     0.13273,     0.13278,     0.13283,     0.13287,     0.13292,     0.13235,     0.13163,     0.13091,     0.13018,     0.12946,     0.12873,     0.12801,     0.12728,     0.12659,     0.12591,     0.12522,     0.12454,\n",
       "            0.12385,     0.12316,     0.12248,     0.12179,     0.11748,     0.11532,     0.11458,     0.11385,     0.11311,     0.11237,     0.11163,     0.11089,     0.11015,      0.1091,     0.10802,     0.10694,     0.10586,     0.10478,      0.1043,     0.10431,     0.10433,     0.10434,     0.10435,\n",
       "            0.10436,     0.10437,     0.10439,      0.1044,     0.10441,     0.10442,     0.10443,     0.10445,     0.10446,     0.10447,     0.10448,     0.10449,      0.1045,     0.10452,     0.10453,     0.10454,     0.10455,     0.10456,     0.10457,     0.10458,      0.1046,     0.10461,    0.097817,\n",
       "           0.093795,    0.091839,    0.090491,    0.089142,    0.087791,    0.082282,      0.0788,     0.07634,    0.074898,    0.074673,    0.074449,    0.074225,       0.074,    0.073776,    0.073551,    0.073326,    0.073102,    0.072877,    0.072652,    0.072427,    0.072203,    0.071978,    0.071753,\n",
       "           0.071528,    0.071303,    0.071078,    0.070852,    0.070627,    0.070402,    0.070177,    0.069951,    0.069726,    0.069501,    0.069275,     0.06905,    0.067852,    0.066076,    0.064296,    0.062651,    0.061515,    0.060377,    0.059238,    0.058098,    0.056957,    0.056021,    0.055122,\n",
       "           0.054223,    0.053322,    0.052421,    0.051519,     0.05061,    0.049344,    0.048077,    0.046808,    0.045538,    0.044401,     0.04409,     0.04378,    0.043469,    0.043158,    0.042847,    0.042536,    0.042225,    0.041914,    0.041602,    0.041291,     0.04098,    0.040668,    0.040356,\n",
       "           0.040045,    0.039733,    0.039421,    0.039109,    0.038797,    0.038485,    0.038053,    0.036887,     0.03572,    0.034552,    0.033383,    0.032213,     0.03198,    0.032015,    0.032047,    0.030222,     0.02806,    0.025894,    0.022721,    0.019452,    0.018992,    0.018617,    0.018243,\n",
       "           0.017868,    0.017493,    0.017118,    0.016743,    0.016368,    0.015992,    0.015617,    0.015241,    0.014865,    0.014489,    0.014113,    0.013737,     0.01336,    0.012984,    0.012795,    0.012628,    0.012461,    0.012294,    0.012127,     0.01196,    0.011793,    0.011626,    0.011459,\n",
       "           0.011292,    0.011125,    0.010958,     0.01079,    0.010623,    0.010456,    0.010289,    0.010121,   0.0099539,   0.0097865,   0.0096191,   0.0094516,   0.0092841,   0.0091166,   0.0089491,   0.0087815,    0.008614,   0.0084463,   0.0082787,    0.008111,   0.0079433,   0.0077756,   0.0076078,\n",
       "            0.00744,   0.0072722,   0.0071044,   0.0069365,   0.0067686,   0.0066007,           0,           0,           0,           0,           0,           0,           0,           0,           0,           0,           0,           0,           0,           0,           0,           0,           0,\n",
       "                  0,           0,           0,           0,           0,           0,           0,           0,           0,           0,           0,           0,           0,           0,           0,           0,           0,           0,           0,           0,           0,           0,           0,\n",
       "                  0,           0,           0,           0,           0,           0,           0,           0,           0,           0,           0,           0,           0,           0,           0,           0,           0,           0,           0,           0,           0,           0,           0,\n",
       "                  0,           0,           0,           0,           0,           0,           0,           0,           0,           0,           0,           0,           0,           0,           0,           0,           0,           0,           0,           0,           0,           0,           0,\n",
       "                  0,           0,           0,           0,           0,           0,           0,           0,           0,           0,           0,           0,           0,           0,           0,           0,           0,           0,           0,           0,           0,           0,           0,\n",
       "                  0,           0,           0,           0,           0,           0,           0,           0,           0,           0,           0,           0,           0,           0,           0,           0,           0,           0,           0,           0,           0,           0,           0,\n",
       "                  0,           0,           0,           0,           0,           0,           0,           0,           0,           0,           0,           0,           0,           0,           0,           0,           0,           0,           0,           0,           0,           0,           0,\n",
       "                  0,           0,           0,           0,           0,           0,           0,           0,           0,           0,           0]]), 'Confidence', 'F1'], [array([          0,    0.001001,    0.002002,    0.003003,    0.004004,    0.005005,    0.006006,    0.007007,    0.008008,    0.009009,     0.01001,    0.011011,    0.012012,    0.013013,    0.014014,    0.015015,    0.016016,    0.017017,    0.018018,    0.019019,     0.02002,    0.021021,    0.022022,    0.023023,\n",
       "          0.024024,    0.025025,    0.026026,    0.027027,    0.028028,    0.029029,     0.03003,    0.031031,    0.032032,    0.033033,    0.034034,    0.035035,    0.036036,    0.037037,    0.038038,    0.039039,     0.04004,    0.041041,    0.042042,    0.043043,    0.044044,    0.045045,    0.046046,    0.047047,\n",
       "          0.048048,    0.049049,     0.05005,    0.051051,    0.052052,    0.053053,    0.054054,    0.055055,    0.056056,    0.057057,    0.058058,    0.059059,     0.06006,    0.061061,    0.062062,    0.063063,    0.064064,    0.065065,    0.066066,    0.067067,    0.068068,    0.069069,     0.07007,    0.071071,\n",
       "          0.072072,    0.073073,    0.074074,    0.075075,    0.076076,    0.077077,    0.078078,    0.079079,     0.08008,    0.081081,    0.082082,    0.083083,    0.084084,    0.085085,    0.086086,    0.087087,    0.088088,    0.089089,     0.09009,    0.091091,    0.092092,    0.093093,    0.094094,    0.095095,\n",
       "          0.096096,    0.097097,    0.098098,    0.099099,      0.1001,      0.1011,      0.1021,      0.1031,      0.1041,     0.10511,     0.10611,     0.10711,     0.10811,     0.10911,     0.11011,     0.11111,     0.11211,     0.11311,     0.11411,     0.11512,     0.11612,     0.11712,     0.11812,     0.11912,\n",
       "           0.12012,     0.12112,     0.12212,     0.12312,     0.12412,     0.12513,     0.12613,     0.12713,     0.12813,     0.12913,     0.13013,     0.13113,     0.13213,     0.13313,     0.13413,     0.13514,     0.13614,     0.13714,     0.13814,     0.13914,     0.14014,     0.14114,     0.14214,     0.14314,\n",
       "           0.14414,     0.14515,     0.14615,     0.14715,     0.14815,     0.14915,     0.15015,     0.15115,     0.15215,     0.15315,     0.15415,     0.15516,     0.15616,     0.15716,     0.15816,     0.15916,     0.16016,     0.16116,     0.16216,     0.16316,     0.16416,     0.16517,     0.16617,     0.16717,\n",
       "           0.16817,     0.16917,     0.17017,     0.17117,     0.17217,     0.17317,     0.17417,     0.17518,     0.17618,     0.17718,     0.17818,     0.17918,     0.18018,     0.18118,     0.18218,     0.18318,     0.18418,     0.18519,     0.18619,     0.18719,     0.18819,     0.18919,     0.19019,     0.19119,\n",
       "           0.19219,     0.19319,     0.19419,      0.1952,      0.1962,      0.1972,      0.1982,      0.1992,      0.2002,      0.2012,      0.2022,      0.2032,      0.2042,     0.20521,     0.20621,     0.20721,     0.20821,     0.20921,     0.21021,     0.21121,     0.21221,     0.21321,     0.21421,     0.21522,\n",
       "           0.21622,     0.21722,     0.21822,     0.21922,     0.22022,     0.22122,     0.22222,     0.22322,     0.22422,     0.22523,     0.22623,     0.22723,     0.22823,     0.22923,     0.23023,     0.23123,     0.23223,     0.23323,     0.23423,     0.23524,     0.23624,     0.23724,     0.23824,     0.23924,\n",
       "           0.24024,     0.24124,     0.24224,     0.24324,     0.24424,     0.24525,     0.24625,     0.24725,     0.24825,     0.24925,     0.25025,     0.25125,     0.25225,     0.25325,     0.25425,     0.25526,     0.25626,     0.25726,     0.25826,     0.25926,     0.26026,     0.26126,     0.26226,     0.26326,\n",
       "           0.26426,     0.26527,     0.26627,     0.26727,     0.26827,     0.26927,     0.27027,     0.27127,     0.27227,     0.27327,     0.27427,     0.27528,     0.27628,     0.27728,     0.27828,     0.27928,     0.28028,     0.28128,     0.28228,     0.28328,     0.28428,     0.28529,     0.28629,     0.28729,\n",
       "           0.28829,     0.28929,     0.29029,     0.29129,     0.29229,     0.29329,     0.29429,      0.2953,      0.2963,      0.2973,      0.2983,      0.2993,      0.3003,      0.3013,      0.3023,      0.3033,      0.3043,     0.30531,     0.30631,     0.30731,     0.30831,     0.30931,     0.31031,     0.31131,\n",
       "           0.31231,     0.31331,     0.31431,     0.31532,     0.31632,     0.31732,     0.31832,     0.31932,     0.32032,     0.32132,     0.32232,     0.32332,     0.32432,     0.32533,     0.32633,     0.32733,     0.32833,     0.32933,     0.33033,     0.33133,     0.33233,     0.33333,     0.33433,     0.33534,\n",
       "           0.33634,     0.33734,     0.33834,     0.33934,     0.34034,     0.34134,     0.34234,     0.34334,     0.34434,     0.34535,     0.34635,     0.34735,     0.34835,     0.34935,     0.35035,     0.35135,     0.35235,     0.35335,     0.35435,     0.35536,     0.35636,     0.35736,     0.35836,     0.35936,\n",
       "           0.36036,     0.36136,     0.36236,     0.36336,     0.36436,     0.36537,     0.36637,     0.36737,     0.36837,     0.36937,     0.37037,     0.37137,     0.37237,     0.37337,     0.37437,     0.37538,     0.37638,     0.37738,     0.37838,     0.37938,     0.38038,     0.38138,     0.38238,     0.38338,\n",
       "           0.38438,     0.38539,     0.38639,     0.38739,     0.38839,     0.38939,     0.39039,     0.39139,     0.39239,     0.39339,     0.39439,      0.3954,      0.3964,      0.3974,      0.3984,      0.3994,      0.4004,      0.4014,      0.4024,      0.4034,      0.4044,     0.40541,     0.40641,     0.40741,\n",
       "           0.40841,     0.40941,     0.41041,     0.41141,     0.41241,     0.41341,     0.41441,     0.41542,     0.41642,     0.41742,     0.41842,     0.41942,     0.42042,     0.42142,     0.42242,     0.42342,     0.42442,     0.42543,     0.42643,     0.42743,     0.42843,     0.42943,     0.43043,     0.43143,\n",
       "           0.43243,     0.43343,     0.43443,     0.43544,     0.43644,     0.43744,     0.43844,     0.43944,     0.44044,     0.44144,     0.44244,     0.44344,     0.44444,     0.44545,     0.44645,     0.44745,     0.44845,     0.44945,     0.45045,     0.45145,     0.45245,     0.45345,     0.45445,     0.45546,\n",
       "           0.45646,     0.45746,     0.45846,     0.45946,     0.46046,     0.46146,     0.46246,     0.46346,     0.46446,     0.46547,     0.46647,     0.46747,     0.46847,     0.46947,     0.47047,     0.47147,     0.47247,     0.47347,     0.47447,     0.47548,     0.47648,     0.47748,     0.47848,     0.47948,\n",
       "           0.48048,     0.48148,     0.48248,     0.48348,     0.48448,     0.48549,     0.48649,     0.48749,     0.48849,     0.48949,     0.49049,     0.49149,     0.49249,     0.49349,     0.49449,      0.4955,      0.4965,      0.4975,      0.4985,      0.4995,      0.5005,      0.5015,      0.5025,      0.5035,\n",
       "            0.5045,     0.50551,     0.50651,     0.50751,     0.50851,     0.50951,     0.51051,     0.51151,     0.51251,     0.51351,     0.51451,     0.51552,     0.51652,     0.51752,     0.51852,     0.51952,     0.52052,     0.52152,     0.52252,     0.52352,     0.52452,     0.52553,     0.52653,     0.52753,\n",
       "           0.52853,     0.52953,     0.53053,     0.53153,     0.53253,     0.53353,     0.53453,     0.53554,     0.53654,     0.53754,     0.53854,     0.53954,     0.54054,     0.54154,     0.54254,     0.54354,     0.54454,     0.54555,     0.54655,     0.54755,     0.54855,     0.54955,     0.55055,     0.55155,\n",
       "           0.55255,     0.55355,     0.55455,     0.55556,     0.55656,     0.55756,     0.55856,     0.55956,     0.56056,     0.56156,     0.56256,     0.56356,     0.56456,     0.56557,     0.56657,     0.56757,     0.56857,     0.56957,     0.57057,     0.57157,     0.57257,     0.57357,     0.57457,     0.57558,\n",
       "           0.57658,     0.57758,     0.57858,     0.57958,     0.58058,     0.58158,     0.58258,     0.58358,     0.58458,     0.58559,     0.58659,     0.58759,     0.58859,     0.58959,     0.59059,     0.59159,     0.59259,     0.59359,     0.59459,      0.5956,      0.5966,      0.5976,      0.5986,      0.5996,\n",
       "            0.6006,      0.6016,      0.6026,      0.6036,      0.6046,     0.60561,     0.60661,     0.60761,     0.60861,     0.60961,     0.61061,     0.61161,     0.61261,     0.61361,     0.61461,     0.61562,     0.61662,     0.61762,     0.61862,     0.61962,     0.62062,     0.62162,     0.62262,     0.62362,\n",
       "           0.62462,     0.62563,     0.62663,     0.62763,     0.62863,     0.62963,     0.63063,     0.63163,     0.63263,     0.63363,     0.63463,     0.63564,     0.63664,     0.63764,     0.63864,     0.63964,     0.64064,     0.64164,     0.64264,     0.64364,     0.64464,     0.64565,     0.64665,     0.64765,\n",
       "           0.64865,     0.64965,     0.65065,     0.65165,     0.65265,     0.65365,     0.65465,     0.65566,     0.65666,     0.65766,     0.65866,     0.65966,     0.66066,     0.66166,     0.66266,     0.66366,     0.66466,     0.66567,     0.66667,     0.66767,     0.66867,     0.66967,     0.67067,     0.67167,\n",
       "           0.67267,     0.67367,     0.67467,     0.67568,     0.67668,     0.67768,     0.67868,     0.67968,     0.68068,     0.68168,     0.68268,     0.68368,     0.68468,     0.68569,     0.68669,     0.68769,     0.68869,     0.68969,     0.69069,     0.69169,     0.69269,     0.69369,     0.69469,      0.6957,\n",
       "            0.6967,      0.6977,      0.6987,      0.6997,      0.7007,      0.7017,      0.7027,      0.7037,      0.7047,     0.70571,     0.70671,     0.70771,     0.70871,     0.70971,     0.71071,     0.71171,     0.71271,     0.71371,     0.71471,     0.71572,     0.71672,     0.71772,     0.71872,     0.71972,\n",
       "           0.72072,     0.72172,     0.72272,     0.72372,     0.72472,     0.72573,     0.72673,     0.72773,     0.72873,     0.72973,     0.73073,     0.73173,     0.73273,     0.73373,     0.73473,     0.73574,     0.73674,     0.73774,     0.73874,     0.73974,     0.74074,     0.74174,     0.74274,     0.74374,\n",
       "           0.74474,     0.74575,     0.74675,     0.74775,     0.74875,     0.74975,     0.75075,     0.75175,     0.75275,     0.75375,     0.75475,     0.75576,     0.75676,     0.75776,     0.75876,     0.75976,     0.76076,     0.76176,     0.76276,     0.76376,     0.76476,     0.76577,     0.76677,     0.76777,\n",
       "           0.76877,     0.76977,     0.77077,     0.77177,     0.77277,     0.77377,     0.77477,     0.77578,     0.77678,     0.77778,     0.77878,     0.77978,     0.78078,     0.78178,     0.78278,     0.78378,     0.78478,     0.78579,     0.78679,     0.78779,     0.78879,     0.78979,     0.79079,     0.79179,\n",
       "           0.79279,     0.79379,     0.79479,      0.7958,      0.7968,      0.7978,      0.7988,      0.7998,      0.8008,      0.8018,      0.8028,      0.8038,      0.8048,     0.80581,     0.80681,     0.80781,     0.80881,     0.80981,     0.81081,     0.81181,     0.81281,     0.81381,     0.81481,     0.81582,\n",
       "           0.81682,     0.81782,     0.81882,     0.81982,     0.82082,     0.82182,     0.82282,     0.82382,     0.82482,     0.82583,     0.82683,     0.82783,     0.82883,     0.82983,     0.83083,     0.83183,     0.83283,     0.83383,     0.83483,     0.83584,     0.83684,     0.83784,     0.83884,     0.83984,\n",
       "           0.84084,     0.84184,     0.84284,     0.84384,     0.84484,     0.84585,     0.84685,     0.84785,     0.84885,     0.84985,     0.85085,     0.85185,     0.85285,     0.85385,     0.85485,     0.85586,     0.85686,     0.85786,     0.85886,     0.85986,     0.86086,     0.86186,     0.86286,     0.86386,\n",
       "           0.86486,     0.86587,     0.86687,     0.86787,     0.86887,     0.86987,     0.87087,     0.87187,     0.87287,     0.87387,     0.87487,     0.87588,     0.87688,     0.87788,     0.87888,     0.87988,     0.88088,     0.88188,     0.88288,     0.88388,     0.88488,     0.88589,     0.88689,     0.88789,\n",
       "           0.88889,     0.88989,     0.89089,     0.89189,     0.89289,     0.89389,     0.89489,      0.8959,      0.8969,      0.8979,      0.8989,      0.8999,      0.9009,      0.9019,      0.9029,      0.9039,      0.9049,     0.90591,     0.90691,     0.90791,     0.90891,     0.90991,     0.91091,     0.91191,\n",
       "           0.91291,     0.91391,     0.91491,     0.91592,     0.91692,     0.91792,     0.91892,     0.91992,     0.92092,     0.92192,     0.92292,     0.92392,     0.92492,     0.92593,     0.92693,     0.92793,     0.92893,     0.92993,     0.93093,     0.93193,     0.93293,     0.93393,     0.93493,     0.93594,\n",
       "           0.93694,     0.93794,     0.93894,     0.93994,     0.94094,     0.94194,     0.94294,     0.94394,     0.94494,     0.94595,     0.94695,     0.94795,     0.94895,     0.94995,     0.95095,     0.95195,     0.95295,     0.95395,     0.95495,     0.95596,     0.95696,     0.95796,     0.95896,     0.95996,\n",
       "           0.96096,     0.96196,     0.96296,     0.96396,     0.96496,     0.96597,     0.96697,     0.96797,     0.96897,     0.96997,     0.97097,     0.97197,     0.97297,     0.97397,     0.97497,     0.97598,     0.97698,     0.97798,     0.97898,     0.97998,     0.98098,     0.98198,     0.98298,     0.98398,\n",
       "           0.98498,     0.98599,     0.98699,     0.98799,     0.98899,     0.98999,     0.99099,     0.99199,     0.99299,     0.99399,     0.99499,       0.996,       0.997,       0.998,       0.999,           1]), array([[    0.02744,    0.027538,    0.040473,    0.051624,    0.060804,    0.068879,     0.07758,    0.084741,    0.091742,    0.097446,      0.1037,     0.10882,     0.11373,     0.11869,     0.12343,     0.12727,     0.13285,     0.13854,     0.14399,     0.14662,     0.15028,     0.15459,     0.15852,\n",
       "            0.16424,     0.16803,     0.17371,     0.17854,     0.18129,     0.18585,      0.1892,     0.19447,     0.19646,     0.19882,       0.202,     0.20518,     0.21069,     0.21453,      0.2197,     0.22345,     0.22634,     0.22986,     0.23391,      0.2369,     0.24201,     0.24473,     0.24581,\n",
       "            0.24762,     0.25056,     0.25291,     0.25679,      0.2587,     0.26092,     0.26426,     0.26905,     0.27131,     0.27449,     0.27826,     0.27735,      0.2808,     0.28292,     0.28509,     0.28667,     0.28778,      0.2897,      0.2944,     0.29802,     0.30009,     0.30096,     0.30232,\n",
       "            0.30211,      0.3064,     0.31119,     0.31421,     0.31705,       0.321,     0.31919,      0.3212,     0.32364,     0.32729,     0.33245,     0.33272,     0.33721,     0.34427,     0.34715,     0.34908,     0.35387,     0.35375,     0.35531,     0.35702,     0.35975,      0.3623,     0.36275,\n",
       "            0.36206,     0.36373,      0.3665,     0.36899,     0.37004,     0.37015,     0.37127,     0.37467,     0.37604,     0.37674,     0.37837,     0.37788,     0.37948,     0.37798,     0.37868,     0.37907,      0.3803,     0.38358,     0.38293,     0.38503,     0.38633,      0.3864,     0.38773,\n",
       "            0.39183,     0.39105,     0.39244,     0.39665,      0.3998,     0.40078,     0.40057,     0.39878,     0.39972,     0.40139,     0.40483,     0.40572,     0.40416,     0.40588,      0.4071,     0.40684,     0.41252,     0.41774,      0.4208,     0.42273,     0.42456,     0.42736,     0.42871,\n",
       "            0.43192,     0.43609,     0.43724,     0.43864,     0.43804,     0.43745,      0.4397,     0.44244,     0.44279,     0.44277,     0.44357,     0.44229,     0.44516,     0.44839,     0.44991,     0.45215,     0.45499,     0.45641,     0.45722,     0.45754,     0.45669,     0.45739,     0.45844,\n",
       "            0.45999,     0.46328,     0.46638,     0.47082,     0.47185,     0.47262,     0.47139,     0.47489,      0.4768,     0.48186,     0.48135,     0.48296,     0.48422,      0.4854,     0.48646,     0.48756,     0.49219,     0.49751,     0.50128,     0.50396,     0.50552,     0.50917,     0.51209,\n",
       "            0.51437,      0.5157,     0.51656,     0.51568,     0.51705,     0.51602,     0.51676,     0.52005,     0.52432,     0.52827,     0.53608,      0.5425,     0.54456,     0.54594,      0.5471,     0.54816,     0.54909,     0.55006,     0.55194,     0.55072,     0.55129,     0.55225,      0.5549,\n",
       "            0.55614,     0.55462,     0.55503,     0.55545,     0.55586,     0.55628,      0.5567,     0.55743,     0.55926,     0.56257,     0.56352,     0.56528,     0.56659,     0.56844,      0.5704,     0.57092,     0.57144,     0.57196,     0.57248,     0.56839,     0.56735,     0.56862,     0.56893,\n",
       "            0.56746,     0.56968,     0.56818,     0.56978,       0.568,      0.5669,     0.56876,     0.57498,     0.57689,     0.57995,     0.57917,     0.58332,     0.58388,     0.58353,     0.58317,     0.58282,     0.58247,     0.58211,     0.58411,     0.58331,     0.59186,     0.59252,     0.59156,\n",
       "            0.59101,     0.59635,      0.5949,     0.59387,      0.5929,     0.59358,     0.59502,     0.60217,     0.60537,     0.60411,     0.60608,      0.6046,     0.60636,     0.60957,     0.61012,     0.61089,     0.61159,     0.61734,     0.61762,     0.61691,      0.6162,     0.61548,     0.61742,\n",
       "            0.62019,     0.61947,     0.61874,     0.61935,     0.62159,     0.62086,     0.62013,     0.62185,     0.62413,     0.63061,     0.63731,      0.6397,     0.64032,     0.63874,      0.6411,     0.64154,     0.63739,     0.63599,     0.63818,     0.64164,     0.65105,     0.65213,     0.65074,\n",
       "            0.64964,     0.65106,     0.65248,     0.65166,      0.6557,     0.65884,     0.65759,     0.65649,     0.65548,     0.65316,     0.65675,     0.65596,     0.65516,     0.65449,     0.65591,     0.65733,     0.65875,     0.65899,     0.65857,     0.65816,     0.65774,     0.65732,     0.65691,\n",
       "              0.656,     0.65467,     0.65715,     0.65777,      0.6561,     0.65511,     0.65413,     0.65122,     0.64918,     0.65067,     0.65217,     0.65309,      0.6513,     0.65215,     0.65301,     0.65386,     0.65472,     0.65557,     0.66945,      0.6702,     0.67393,     0.68662,     0.68881,\n",
       "            0.69099,     0.69393,     0.69801,     0.69626,     0.69522,     0.69461,       0.694,     0.69339,     0.69503,     0.69971,     0.70142,     0.70312,     0.70483,     0.70793,     0.71165,      0.7206,     0.72306,     0.72596,     0.72989,     0.73565,      0.7395,      0.7414,      0.7433,\n",
       "            0.74521,     0.74928,     0.75176,     0.74931,     0.74737,     0.74669,     0.74602,     0.74534,     0.74996,     0.75435,     0.75715,     0.75996,     0.75757,     0.75689,     0.75622,     0.75554,       0.762,     0.75986,     0.75839,     0.75937,     0.76157,     0.76377,     0.76595,\n",
       "            0.76466,     0.76394,     0.77153,     0.76886,     0.76616,     0.76482,     0.76111,     0.76052,     0.75993,     0.75934,     0.75874,     0.75968,     0.76102,     0.76236,      0.7637,     0.76504,     0.76638,     0.76412,     0.76406,     0.77093,     0.77033,     0.76973,     0.76912,\n",
       "            0.76852,     0.77131,     0.77617,     0.77587,     0.77433,     0.77335,     0.77238,     0.77316,     0.77446,     0.77577,     0.77708,     0.77839,      0.7797,     0.78101,     0.77891,     0.77743,     0.77616,     0.77555,     0.77494,     0.77433,     0.77371,     0.77403,      0.7759,\n",
       "            0.77776,     0.77962,     0.78149,     0.78335,     0.78262,      0.7811,     0.77516,     0.77188,     0.77473,     0.77855,     0.78237,     0.78107,     0.77943,      0.7783,     0.77718,     0.77591,     0.77243,     0.76908,     0.76774,      0.7664,     0.76695,     0.77007,     0.77318,\n",
       "            0.77629,     0.77912,      0.7817,     0.78427,     0.78684,     0.78941,     0.78956,     0.78839,     0.78722,     0.78636,     0.78563,     0.78491,     0.78418,     0.78345,     0.78309,      0.7828,     0.78251,     0.78222,     0.78193,     0.78164,     0.78135,     0.78106,     0.78077,\n",
       "            0.78048,     0.78019,      0.7799,     0.77957,     0.77902,     0.77846,      0.7779,     0.77735,     0.77679,     0.77624,     0.77816,     0.78513,     0.78875,     0.78682,     0.78547,      0.7849,     0.78433,     0.78376,     0.78319,     0.78262,     0.78205,     0.78151,     0.78099,\n",
       "            0.78047,     0.77996,     0.77944,     0.77892,      0.7784,     0.77788,     0.77437,     0.77328,     0.77291,     0.77254,     0.77217,     0.77179,     0.77142,     0.77105,     0.77068,     0.77031,     0.76993,     0.76956,     0.77094,     0.78648,     0.80133,      0.8097,     0.81624,\n",
       "            0.81585,     0.81546,     0.81507,     0.81468,     0.81428,     0.81389,      0.8135,     0.81311,     0.81271,     0.81213,     0.81131,     0.81049,     0.80968,     0.80886,     0.80606,     0.80368,     0.80257,     0.80145,     0.80034,     0.81988,     0.82232,     0.82476,     0.82719,\n",
       "            0.82963,     0.83207,     0.83451,     0.83695,      0.8362,     0.83506,     0.83393,     0.83234,     0.83026,     0.82898,     0.82843,     0.82789,     0.82734,     0.82679,     0.82625,      0.8257,     0.82515,     0.82371,     0.82813,     0.83256,     0.83698,     0.84141,     0.84604,\n",
       "            0.85071,     0.85537,     0.86004,      0.8647,     0.86363,     0.86234,     0.86101,     0.85829,     0.85467,     0.85203,     0.85051,     0.84898,     0.86677,     0.87356,     0.87149,     0.87046,     0.86978,     0.86911,     0.86843,     0.86775,     0.86707,     0.86603,     0.86446,\n",
       "            0.86289,     0.86188,     0.86147,     0.86107,     0.86066,     0.86026,     0.85986,     0.85945,     0.85905,     0.85864,     0.85824,     0.85784,     0.85743,      0.8513,     0.84935,     0.84741,     0.84746,     0.85111,     0.85476,     0.85841,     0.86206,     0.86572,     0.86937,\n",
       "            0.87302,     0.87667,     0.88039,     0.88481,     0.88923,     0.89366,     0.89808,      0.9025,     0.90692,     0.91134,     0.91576,      0.9163,     0.91583,     0.91537,      0.9149,     0.91444,     0.91398,     0.91351,     0.91305,     0.91257,     0.91209,     0.91162,     0.91114,\n",
       "            0.91066,     0.91019,     0.90971,     0.90923,     0.90599,     0.90432,     0.90371,      0.9031,     0.90249,     0.90188,     0.90127,     0.90066,     0.90005,      0.8991,     0.89812,     0.89714,     0.89616,     0.89518,     0.89574,     0.89756,     0.89938,      0.9012,     0.90302,\n",
       "            0.90484,     0.90666,     0.90848,      0.9103,     0.91212,     0.91394,     0.91576,     0.91758,      0.9194,     0.92122,     0.92304,     0.92486,     0.92668,      0.9285,     0.93032,     0.93214,     0.93396,     0.93578,      0.9376,     0.93942,     0.94124,     0.94305,     0.94058,\n",
       "            0.93807,     0.93677,     0.93582,     0.93487,     0.93392,      0.9296,     0.92656,      0.9243,     0.92297,     0.92273,     0.92249,     0.92225,     0.92201,     0.92177,     0.92153,      0.9213,     0.92106,     0.92082,     0.92058,     0.92034,      0.9201,     0.91986,     0.91962,\n",
       "            0.91938,     0.91915,     0.91891,     0.91867,     0.91843,     0.91819,     0.91795,     0.91771,     0.91747,     0.91723,     0.91699,     0.91676,     0.91527,     0.91306,     0.91084,     0.90873,     0.90704,     0.90534,     0.90365,     0.90195,     0.90026,     0.89862,     0.89699,\n",
       "            0.89537,     0.89374,     0.89211,     0.89049,     0.88884,     0.88599,     0.88314,      0.8803,     0.87745,     0.87487,     0.87398,     0.87309,      0.8722,      0.8713,     0.87041,     0.86952,     0.86862,     0.86773,     0.86684,     0.86595,     0.86505,     0.86416,     0.86327,\n",
       "            0.86237,     0.86148,     0.86059,      0.8597,      0.8588,     0.85791,     0.85652,     0.85208,     0.84764,     0.84321,     0.83877,     0.83433,     0.87746,     0.93441,     0.99135,           1,           1,           1,           1,           1,           1,           1,           1,\n",
       "                  1,           1,           1,           1,           1,           1,           1,           1,           1,           1,           1,           1,           1,           1,           1,           1,           1,           1,           1,           1,           1,           1,           1,\n",
       "                  1,           1,           1,           1,           1,           1,           1,           1,           1,           1,           1,           1,           1,           1,           1,           1,           1,           1,           1,           1,           1,           1,           1,\n",
       "                  1,           1,           1,           1,           1,           1,           1,           1,           1,           1,           1,           1,           1,           1,           1,           1,           1,           1,           1,           1,           1,           1,           1,\n",
       "                  1,           1,           1,           1,           1,           1,           1,           1,           1,           1,           1,           1,           1,           1,           1,           1,           1,           1,           1,           1,           1,           1,           1,\n",
       "                  1,           1,           1,           1,           1,           1,           1,           1,           1,           1,           1,           1,           1,           1,           1,           1,           1,           1,           1,           1,           1,           1,           1,\n",
       "                  1,           1,           1,           1,           1,           1,           1,           1,           1,           1,           1,           1,           1,           1,           1,           1,           1,           1,           1,           1,           1,           1,           1,\n",
       "                  1,           1,           1,           1,           1,           1,           1,           1,           1,           1,           1,           1,           1,           1,           1,           1,           1,           1,           1,           1,           1,           1,           1,\n",
       "                  1,           1,           1,           1,           1,           1,           1,           1,           1,           1,           1,           1,           1,           1,           1,           1,           1,           1,           1,           1,           1,           1,           1,\n",
       "                  1,           1,           1,           1,           1,           1,           1,           1,           1,           1,           1,           1,           1,           1,           1,           1,           1,           1,           1,           1,           1,           1,           1,\n",
       "                  1,           1,           1,           1,           1,           1,           1,           1,           1,           1,           1]]), 'Confidence', 'Precision'], [array([          0,    0.001001,    0.002002,    0.003003,    0.004004,    0.005005,    0.006006,    0.007007,    0.008008,    0.009009,     0.01001,    0.011011,    0.012012,    0.013013,    0.014014,    0.015015,    0.016016,    0.017017,    0.018018,    0.019019,     0.02002,    0.021021,    0.022022,    0.023023,\n",
       "          0.024024,    0.025025,    0.026026,    0.027027,    0.028028,    0.029029,     0.03003,    0.031031,    0.032032,    0.033033,    0.034034,    0.035035,    0.036036,    0.037037,    0.038038,    0.039039,     0.04004,    0.041041,    0.042042,    0.043043,    0.044044,    0.045045,    0.046046,    0.047047,\n",
       "          0.048048,    0.049049,     0.05005,    0.051051,    0.052052,    0.053053,    0.054054,    0.055055,    0.056056,    0.057057,    0.058058,    0.059059,     0.06006,    0.061061,    0.062062,    0.063063,    0.064064,    0.065065,    0.066066,    0.067067,    0.068068,    0.069069,     0.07007,    0.071071,\n",
       "          0.072072,    0.073073,    0.074074,    0.075075,    0.076076,    0.077077,    0.078078,    0.079079,     0.08008,    0.081081,    0.082082,    0.083083,    0.084084,    0.085085,    0.086086,    0.087087,    0.088088,    0.089089,     0.09009,    0.091091,    0.092092,    0.093093,    0.094094,    0.095095,\n",
       "          0.096096,    0.097097,    0.098098,    0.099099,      0.1001,      0.1011,      0.1021,      0.1031,      0.1041,     0.10511,     0.10611,     0.10711,     0.10811,     0.10911,     0.11011,     0.11111,     0.11211,     0.11311,     0.11411,     0.11512,     0.11612,     0.11712,     0.11812,     0.11912,\n",
       "           0.12012,     0.12112,     0.12212,     0.12312,     0.12412,     0.12513,     0.12613,     0.12713,     0.12813,     0.12913,     0.13013,     0.13113,     0.13213,     0.13313,     0.13413,     0.13514,     0.13614,     0.13714,     0.13814,     0.13914,     0.14014,     0.14114,     0.14214,     0.14314,\n",
       "           0.14414,     0.14515,     0.14615,     0.14715,     0.14815,     0.14915,     0.15015,     0.15115,     0.15215,     0.15315,     0.15415,     0.15516,     0.15616,     0.15716,     0.15816,     0.15916,     0.16016,     0.16116,     0.16216,     0.16316,     0.16416,     0.16517,     0.16617,     0.16717,\n",
       "           0.16817,     0.16917,     0.17017,     0.17117,     0.17217,     0.17317,     0.17417,     0.17518,     0.17618,     0.17718,     0.17818,     0.17918,     0.18018,     0.18118,     0.18218,     0.18318,     0.18418,     0.18519,     0.18619,     0.18719,     0.18819,     0.18919,     0.19019,     0.19119,\n",
       "           0.19219,     0.19319,     0.19419,      0.1952,      0.1962,      0.1972,      0.1982,      0.1992,      0.2002,      0.2012,      0.2022,      0.2032,      0.2042,     0.20521,     0.20621,     0.20721,     0.20821,     0.20921,     0.21021,     0.21121,     0.21221,     0.21321,     0.21421,     0.21522,\n",
       "           0.21622,     0.21722,     0.21822,     0.21922,     0.22022,     0.22122,     0.22222,     0.22322,     0.22422,     0.22523,     0.22623,     0.22723,     0.22823,     0.22923,     0.23023,     0.23123,     0.23223,     0.23323,     0.23423,     0.23524,     0.23624,     0.23724,     0.23824,     0.23924,\n",
       "           0.24024,     0.24124,     0.24224,     0.24324,     0.24424,     0.24525,     0.24625,     0.24725,     0.24825,     0.24925,     0.25025,     0.25125,     0.25225,     0.25325,     0.25425,     0.25526,     0.25626,     0.25726,     0.25826,     0.25926,     0.26026,     0.26126,     0.26226,     0.26326,\n",
       "           0.26426,     0.26527,     0.26627,     0.26727,     0.26827,     0.26927,     0.27027,     0.27127,     0.27227,     0.27327,     0.27427,     0.27528,     0.27628,     0.27728,     0.27828,     0.27928,     0.28028,     0.28128,     0.28228,     0.28328,     0.28428,     0.28529,     0.28629,     0.28729,\n",
       "           0.28829,     0.28929,     0.29029,     0.29129,     0.29229,     0.29329,     0.29429,      0.2953,      0.2963,      0.2973,      0.2983,      0.2993,      0.3003,      0.3013,      0.3023,      0.3033,      0.3043,     0.30531,     0.30631,     0.30731,     0.30831,     0.30931,     0.31031,     0.31131,\n",
       "           0.31231,     0.31331,     0.31431,     0.31532,     0.31632,     0.31732,     0.31832,     0.31932,     0.32032,     0.32132,     0.32232,     0.32332,     0.32432,     0.32533,     0.32633,     0.32733,     0.32833,     0.32933,     0.33033,     0.33133,     0.33233,     0.33333,     0.33433,     0.33534,\n",
       "           0.33634,     0.33734,     0.33834,     0.33934,     0.34034,     0.34134,     0.34234,     0.34334,     0.34434,     0.34535,     0.34635,     0.34735,     0.34835,     0.34935,     0.35035,     0.35135,     0.35235,     0.35335,     0.35435,     0.35536,     0.35636,     0.35736,     0.35836,     0.35936,\n",
       "           0.36036,     0.36136,     0.36236,     0.36336,     0.36436,     0.36537,     0.36637,     0.36737,     0.36837,     0.36937,     0.37037,     0.37137,     0.37237,     0.37337,     0.37437,     0.37538,     0.37638,     0.37738,     0.37838,     0.37938,     0.38038,     0.38138,     0.38238,     0.38338,\n",
       "           0.38438,     0.38539,     0.38639,     0.38739,     0.38839,     0.38939,     0.39039,     0.39139,     0.39239,     0.39339,     0.39439,      0.3954,      0.3964,      0.3974,      0.3984,      0.3994,      0.4004,      0.4014,      0.4024,      0.4034,      0.4044,     0.40541,     0.40641,     0.40741,\n",
       "           0.40841,     0.40941,     0.41041,     0.41141,     0.41241,     0.41341,     0.41441,     0.41542,     0.41642,     0.41742,     0.41842,     0.41942,     0.42042,     0.42142,     0.42242,     0.42342,     0.42442,     0.42543,     0.42643,     0.42743,     0.42843,     0.42943,     0.43043,     0.43143,\n",
       "           0.43243,     0.43343,     0.43443,     0.43544,     0.43644,     0.43744,     0.43844,     0.43944,     0.44044,     0.44144,     0.44244,     0.44344,     0.44444,     0.44545,     0.44645,     0.44745,     0.44845,     0.44945,     0.45045,     0.45145,     0.45245,     0.45345,     0.45445,     0.45546,\n",
       "           0.45646,     0.45746,     0.45846,     0.45946,     0.46046,     0.46146,     0.46246,     0.46346,     0.46446,     0.46547,     0.46647,     0.46747,     0.46847,     0.46947,     0.47047,     0.47147,     0.47247,     0.47347,     0.47447,     0.47548,     0.47648,     0.47748,     0.47848,     0.47948,\n",
       "           0.48048,     0.48148,     0.48248,     0.48348,     0.48448,     0.48549,     0.48649,     0.48749,     0.48849,     0.48949,     0.49049,     0.49149,     0.49249,     0.49349,     0.49449,      0.4955,      0.4965,      0.4975,      0.4985,      0.4995,      0.5005,      0.5015,      0.5025,      0.5035,\n",
       "            0.5045,     0.50551,     0.50651,     0.50751,     0.50851,     0.50951,     0.51051,     0.51151,     0.51251,     0.51351,     0.51451,     0.51552,     0.51652,     0.51752,     0.51852,     0.51952,     0.52052,     0.52152,     0.52252,     0.52352,     0.52452,     0.52553,     0.52653,     0.52753,\n",
       "           0.52853,     0.52953,     0.53053,     0.53153,     0.53253,     0.53353,     0.53453,     0.53554,     0.53654,     0.53754,     0.53854,     0.53954,     0.54054,     0.54154,     0.54254,     0.54354,     0.54454,     0.54555,     0.54655,     0.54755,     0.54855,     0.54955,     0.55055,     0.55155,\n",
       "           0.55255,     0.55355,     0.55455,     0.55556,     0.55656,     0.55756,     0.55856,     0.55956,     0.56056,     0.56156,     0.56256,     0.56356,     0.56456,     0.56557,     0.56657,     0.56757,     0.56857,     0.56957,     0.57057,     0.57157,     0.57257,     0.57357,     0.57457,     0.57558,\n",
       "           0.57658,     0.57758,     0.57858,     0.57958,     0.58058,     0.58158,     0.58258,     0.58358,     0.58458,     0.58559,     0.58659,     0.58759,     0.58859,     0.58959,     0.59059,     0.59159,     0.59259,     0.59359,     0.59459,      0.5956,      0.5966,      0.5976,      0.5986,      0.5996,\n",
       "            0.6006,      0.6016,      0.6026,      0.6036,      0.6046,     0.60561,     0.60661,     0.60761,     0.60861,     0.60961,     0.61061,     0.61161,     0.61261,     0.61361,     0.61461,     0.61562,     0.61662,     0.61762,     0.61862,     0.61962,     0.62062,     0.62162,     0.62262,     0.62362,\n",
       "           0.62462,     0.62563,     0.62663,     0.62763,     0.62863,     0.62963,     0.63063,     0.63163,     0.63263,     0.63363,     0.63463,     0.63564,     0.63664,     0.63764,     0.63864,     0.63964,     0.64064,     0.64164,     0.64264,     0.64364,     0.64464,     0.64565,     0.64665,     0.64765,\n",
       "           0.64865,     0.64965,     0.65065,     0.65165,     0.65265,     0.65365,     0.65465,     0.65566,     0.65666,     0.65766,     0.65866,     0.65966,     0.66066,     0.66166,     0.66266,     0.66366,     0.66466,     0.66567,     0.66667,     0.66767,     0.66867,     0.66967,     0.67067,     0.67167,\n",
       "           0.67267,     0.67367,     0.67467,     0.67568,     0.67668,     0.67768,     0.67868,     0.67968,     0.68068,     0.68168,     0.68268,     0.68368,     0.68468,     0.68569,     0.68669,     0.68769,     0.68869,     0.68969,     0.69069,     0.69169,     0.69269,     0.69369,     0.69469,      0.6957,\n",
       "            0.6967,      0.6977,      0.6987,      0.6997,      0.7007,      0.7017,      0.7027,      0.7037,      0.7047,     0.70571,     0.70671,     0.70771,     0.70871,     0.70971,     0.71071,     0.71171,     0.71271,     0.71371,     0.71471,     0.71572,     0.71672,     0.71772,     0.71872,     0.71972,\n",
       "           0.72072,     0.72172,     0.72272,     0.72372,     0.72472,     0.72573,     0.72673,     0.72773,     0.72873,     0.72973,     0.73073,     0.73173,     0.73273,     0.73373,     0.73473,     0.73574,     0.73674,     0.73774,     0.73874,     0.73974,     0.74074,     0.74174,     0.74274,     0.74374,\n",
       "           0.74474,     0.74575,     0.74675,     0.74775,     0.74875,     0.74975,     0.75075,     0.75175,     0.75275,     0.75375,     0.75475,     0.75576,     0.75676,     0.75776,     0.75876,     0.75976,     0.76076,     0.76176,     0.76276,     0.76376,     0.76476,     0.76577,     0.76677,     0.76777,\n",
       "           0.76877,     0.76977,     0.77077,     0.77177,     0.77277,     0.77377,     0.77477,     0.77578,     0.77678,     0.77778,     0.77878,     0.77978,     0.78078,     0.78178,     0.78278,     0.78378,     0.78478,     0.78579,     0.78679,     0.78779,     0.78879,     0.78979,     0.79079,     0.79179,\n",
       "           0.79279,     0.79379,     0.79479,      0.7958,      0.7968,      0.7978,      0.7988,      0.7998,      0.8008,      0.8018,      0.8028,      0.8038,      0.8048,     0.80581,     0.80681,     0.80781,     0.80881,     0.80981,     0.81081,     0.81181,     0.81281,     0.81381,     0.81481,     0.81582,\n",
       "           0.81682,     0.81782,     0.81882,     0.81982,     0.82082,     0.82182,     0.82282,     0.82382,     0.82482,     0.82583,     0.82683,     0.82783,     0.82883,     0.82983,     0.83083,     0.83183,     0.83283,     0.83383,     0.83483,     0.83584,     0.83684,     0.83784,     0.83884,     0.83984,\n",
       "           0.84084,     0.84184,     0.84284,     0.84384,     0.84484,     0.84585,     0.84685,     0.84785,     0.84885,     0.84985,     0.85085,     0.85185,     0.85285,     0.85385,     0.85485,     0.85586,     0.85686,     0.85786,     0.85886,     0.85986,     0.86086,     0.86186,     0.86286,     0.86386,\n",
       "           0.86486,     0.86587,     0.86687,     0.86787,     0.86887,     0.86987,     0.87087,     0.87187,     0.87287,     0.87387,     0.87487,     0.87588,     0.87688,     0.87788,     0.87888,     0.87988,     0.88088,     0.88188,     0.88288,     0.88388,     0.88488,     0.88589,     0.88689,     0.88789,\n",
       "           0.88889,     0.88989,     0.89089,     0.89189,     0.89289,     0.89389,     0.89489,      0.8959,      0.8969,      0.8979,      0.8989,      0.8999,      0.9009,      0.9019,      0.9029,      0.9039,      0.9049,     0.90591,     0.90691,     0.90791,     0.90891,     0.90991,     0.91091,     0.91191,\n",
       "           0.91291,     0.91391,     0.91491,     0.91592,     0.91692,     0.91792,     0.91892,     0.91992,     0.92092,     0.92192,     0.92292,     0.92392,     0.92492,     0.92593,     0.92693,     0.92793,     0.92893,     0.92993,     0.93093,     0.93193,     0.93293,     0.93393,     0.93493,     0.93594,\n",
       "           0.93694,     0.93794,     0.93894,     0.93994,     0.94094,     0.94194,     0.94294,     0.94394,     0.94494,     0.94595,     0.94695,     0.94795,     0.94895,     0.94995,     0.95095,     0.95195,     0.95295,     0.95395,     0.95495,     0.95596,     0.95696,     0.95796,     0.95896,     0.95996,\n",
       "           0.96096,     0.96196,     0.96296,     0.96396,     0.96496,     0.96597,     0.96697,     0.96797,     0.96897,     0.96997,     0.97097,     0.97197,     0.97297,     0.97397,     0.97497,     0.97598,     0.97698,     0.97798,     0.97898,     0.97998,     0.98098,     0.98198,     0.98298,     0.98398,\n",
       "           0.98498,     0.98599,     0.98699,     0.98799,     0.98899,     0.98999,     0.99099,     0.99199,     0.99299,     0.99399,     0.99499,       0.996,       0.997,       0.998,       0.999,           1]), array([[    0.83062,     0.83062,      0.8013,     0.79153,     0.78176,     0.77199,     0.77199,     0.76547,      0.7557,     0.74919,     0.74919,     0.74593,     0.73941,     0.73616,      0.7329,     0.72964,     0.72964,     0.72313,     0.71987,      0.7101,     0.70684,     0.70684,     0.70033,\n",
       "            0.70033,     0.70033,     0.70033,     0.69707,     0.69381,     0.69055,     0.69055,     0.69055,     0.68078,     0.67752,     0.67752,     0.67427,     0.67427,     0.67427,     0.67427,     0.67101,     0.67101,     0.67101,     0.66775,     0.66539,      0.6645,      0.6645,     0.66124,\n",
       "            0.65472,     0.65147,     0.64821,     0.64821,     0.64169,     0.63844,     0.63518,     0.63518,     0.62866,     0.62541,     0.62415,     0.61889,     0.61889,     0.61889,     0.61889,     0.61657,     0.61564,     0.61238,     0.61238,     0.61238,     0.60912,     0.60586,     0.60261,\n",
       "            0.59283,     0.59283,     0.59283,     0.58958,     0.58958,     0.58825,     0.58306,     0.58306,     0.58306,     0.58306,     0.58238,      0.5798,      0.5798,      0.5798,      0.5798,      0.5798,     0.57979,     0.57329,     0.57003,     0.56792,     0.56678,     0.56678,     0.56352,\n",
       "            0.55646,     0.55375,     0.55375,     0.55375,     0.55297,     0.55049,     0.55049,     0.55049,     0.54723,     0.54723,     0.54723,     0.54072,     0.54072,      0.5342,     0.53006,     0.52443,     0.52117,     0.52117,      0.5114,      0.5114,      0.5114,     0.50814,     0.50814,\n",
       "            0.50814,     0.50163,     0.50163,     0.50163,     0.50163,     0.50163,      0.4963,     0.49186,     0.49186,     0.49186,     0.49186,     0.49186,     0.48208,     0.48208,     0.48208,     0.47883,     0.47883,     0.47883,     0.47883,     0.47883,     0.47883,     0.47883,     0.47883,\n",
       "            0.47883,     0.47883,     0.47883,     0.47851,     0.47735,     0.47619,     0.47557,     0.47557,     0.47231,      0.4658,      0.4658,     0.45928,     0.45928,     0.45928,     0.45928,     0.45928,     0.45928,     0.45928,     0.45928,     0.45882,     0.45725,     0.45603,     0.45603,\n",
       "            0.45603,     0.45603,     0.45603,     0.45603,     0.45603,     0.45603,     0.45314,     0.44951,     0.44951,     0.44531,       0.443,       0.443,       0.443,       0.443,       0.443,       0.443,     0.43974,     0.43648,     0.43648,     0.43648,     0.43648,     0.43648,     0.43648,\n",
       "            0.43648,     0.43648,     0.43648,     0.43322,     0.43243,     0.43065,     0.42997,     0.42997,     0.42997,     0.42997,     0.42997,     0.42997,     0.42997,     0.42997,     0.42997,     0.42997,     0.42997,     0.42997,     0.42997,     0.42671,     0.42421,      0.4202,     0.41694,\n",
       "            0.41694,     0.41368,     0.41368,     0.41368,     0.41368,     0.41368,     0.41368,     0.41368,     0.41368,     0.41368,     0.41042,     0.41042,     0.41042,     0.41042,     0.41042,     0.41042,     0.41042,     0.41042,     0.41042,     0.40323,     0.40065,     0.40065,     0.39981,\n",
       "            0.39739,     0.39673,      0.3943,     0.39414,     0.38974,     0.38762,     0.38762,     0.38762,     0.38762,     0.38762,     0.38554,     0.38436,     0.38393,     0.38337,     0.38281,     0.38226,      0.3817,     0.38114,     0.38111,     0.37847,     0.37785,     0.37419,      0.3727,\n",
       "            0.37134,     0.37056,     0.36834,     0.36677,     0.36528,     0.36482,     0.36482,     0.36482,     0.36476,     0.36285,     0.36084,     0.35862,     0.35831,     0.35831,     0.35683,     0.35179,     0.34877,     0.34853,     0.34199,     0.34096,     0.33993,     0.33891,      0.3355,\n",
       "             0.3351,     0.33407,     0.33304,     0.33225,     0.33174,     0.33071,     0.32968,     0.32573,     0.32573,     0.32573,     0.32573,     0.32573,     0.32474,     0.32251,     0.32248,     0.32064,     0.31492,     0.31302,      0.3127,      0.3127,      0.3127,     0.31143,     0.30953,\n",
       "            0.30619,     0.30619,     0.30619,     0.30469,     0.30293,     0.30194,     0.30027,     0.29882,     0.29748,     0.29316,     0.29293,      0.2919,     0.29087,      0.2899,      0.2899,      0.2899,      0.2899,     0.28956,     0.28903,     0.28849,     0.28796,     0.28742,     0.28689,\n",
       "            0.28574,     0.28407,     0.28339,     0.28174,     0.27965,     0.27843,     0.27722,     0.27369,     0.27036,     0.27036,     0.27036,     0.26982,      0.2671,      0.2671,      0.2671,      0.2671,      0.2671,      0.2671,      0.2671,     0.26478,     0.26384,     0.26384,     0.26384,\n",
       "            0.26384,     0.26384,     0.26384,     0.26135,     0.26006,     0.25931,     0.25857,     0.25783,     0.25733,     0.25733,     0.25733,     0.25733,     0.25733,     0.25733,     0.25733,     0.25733,     0.25733,     0.25733,     0.25733,     0.25733,     0.25733,     0.25733,     0.25733,\n",
       "            0.25733,     0.25733,     0.25648,     0.25315,     0.25055,     0.24966,     0.24876,     0.24787,     0.24756,     0.24756,     0.24756,     0.24756,     0.24429,      0.2434,     0.24251,     0.24162,     0.23987,     0.23707,     0.23516,     0.23453,     0.23453,     0.23453,     0.23451,\n",
       "            0.23284,     0.23127,     0.23099,     0.22754,     0.22413,     0.22246,     0.21794,     0.21724,     0.21654,     0.21583,     0.21513,     0.21498,     0.21498,     0.21498,     0.21498,     0.21498,     0.21498,     0.21104,     0.20847,     0.20829,     0.20759,     0.20688,     0.20618,\n",
       "            0.20548,     0.20521,     0.20521,     0.20298,     0.20118,     0.20007,     0.19896,      0.1987,      0.1987,      0.1987,      0.1987,      0.1987,      0.1987,      0.1987,      0.1951,     0.19343,     0.19201,     0.19134,     0.19068,     0.19001,     0.18934,     0.18893,     0.18893,\n",
       "            0.18893,     0.18893,     0.18893,     0.18893,     0.18764,     0.18598,     0.17969,     0.17635,      0.1759,      0.1759,      0.1759,     0.17433,     0.17266,     0.17154,     0.17043,     0.16918,     0.16584,     0.16273,     0.16152,     0.16031,     0.15961,     0.15961,     0.15961,\n",
       "            0.15961,     0.15961,     0.15961,     0.15961,     0.15961,     0.15961,     0.15889,     0.15778,     0.15666,     0.15587,      0.1552,     0.15454,     0.15387,      0.1532,     0.15288,     0.15262,     0.15236,     0.15211,     0.15185,     0.15159,     0.15134,     0.15108,     0.15082,\n",
       "            0.15057,     0.15031,     0.15005,     0.14976,     0.14928,     0.14881,     0.14833,     0.14785,     0.14738,      0.1469,     0.14658,     0.14658,     0.14595,     0.14428,     0.14312,     0.14264,     0.14216,     0.14169,     0.14121,     0.14073,     0.14026,     0.13982,      0.1394,\n",
       "            0.13898,     0.13856,     0.13815,     0.13773,     0.13731,     0.13689,     0.13416,     0.13332,     0.13304,     0.13277,     0.13249,     0.13221,     0.13193,     0.13165,     0.13138,      0.1311,     0.13082,     0.13054,     0.13029,     0.13029,     0.13029,     0.13029,     0.13022,\n",
       "            0.12989,     0.12956,     0.12922,     0.12889,     0.12855,     0.12822,     0.12789,     0.12755,     0.12722,     0.12673,     0.12607,      0.1254,     0.12473,     0.12406,     0.12186,     0.12002,     0.11919,     0.11835,     0.11752,     0.11726,     0.11726,     0.11726,     0.11726,\n",
       "            0.11726,     0.11726,     0.11726,     0.11726,     0.11641,     0.11546,     0.11451,     0.11321,     0.11154,     0.11053,     0.11011,     0.10969,     0.10928,     0.10886,     0.10844,     0.10803,     0.10761,     0.10423,     0.10423,     0.10423,     0.10423,     0.10423,     0.10423,\n",
       "            0.10423,     0.10423,     0.10423,     0.10423,     0.10316,     0.10205,     0.10089,    0.098665,    0.095799,    0.093795,    0.092682,    0.091569,    0.091205,    0.090041,    0.088372,    0.087565,    0.087051,    0.086537,    0.086024,     0.08551,    0.084996,     0.08424,    0.083127,\n",
       "           0.082014,    0.081306,    0.081038,    0.080771,    0.080504,    0.080237,     0.07997,    0.079703,    0.079436,    0.079169,    0.078902,    0.078634,    0.078367,    0.074603,     0.07349,    0.072377,    0.071661,    0.071661,    0.071661,    0.071661,    0.071661,    0.071661,    0.071661,\n",
       "           0.071661,    0.071661,    0.071661,    0.071661,    0.071661,    0.071661,    0.071661,    0.071661,    0.071661,    0.071661,    0.071661,    0.071329,    0.070912,    0.070494,    0.070077,     0.06966,    0.069242,    0.068825,    0.068408,    0.068015,    0.067622,    0.067229,    0.066836,\n",
       "           0.066443,    0.066051,    0.065658,    0.065265,    0.062814,    0.061587,     0.06117,    0.060753,    0.060335,    0.059918,    0.059501,    0.059083,    0.058666,    0.058074,    0.057467,     0.05686,    0.056253,    0.055646,    0.055375,    0.055375,    0.055375,    0.055375,    0.055375,\n",
       "           0.055375,    0.055375,    0.055375,    0.055375,    0.055375,    0.055375,    0.055375,    0.055375,    0.055375,    0.055375,    0.055375,    0.055375,    0.055375,    0.055375,    0.055375,    0.055375,    0.055375,    0.055375,    0.055375,    0.055375,    0.055375,    0.055375,    0.051591,\n",
       "           0.049365,    0.048286,    0.047544,    0.046803,    0.046061,    0.043046,     0.04115,    0.039814,    0.039033,    0.038911,     0.03879,    0.038668,    0.038547,    0.038426,    0.038304,    0.038183,    0.038061,     0.03794,    0.037818,    0.037697,    0.037576,    0.037454,    0.037333,\n",
       "           0.037211,     0.03709,    0.036969,    0.036847,    0.036726,    0.036604,    0.036483,    0.036362,     0.03624,    0.036119,    0.035997,    0.035876,    0.035232,    0.034278,    0.033324,    0.032444,    0.031837,     0.03123,    0.030623,    0.030016,    0.029409,    0.028912,    0.028435,\n",
       "           0.027958,    0.027481,    0.027004,    0.026527,    0.026047,    0.025379,    0.024711,    0.024043,    0.023375,    0.022778,    0.022616,    0.022453,     0.02229,    0.022127,    0.021964,    0.021801,    0.021638,    0.021476,    0.021313,     0.02115,    0.020987,    0.020824,    0.020661,\n",
       "           0.020498,    0.020335,    0.020173,     0.02001,    0.019847,    0.019684,    0.019459,    0.018852,    0.018244,    0.017637,     0.01703,    0.016423,    0.016287,    0.016287,    0.016287,    0.015343,     0.01423,    0.013117,    0.011491,   0.0098217,   0.0095869,   0.0093961,   0.0092053,\n",
       "          0.0090145,   0.0088237,   0.0086329,   0.0084421,   0.0082513,   0.0080606,   0.0078698,    0.007679,   0.0074882,   0.0072974,   0.0071066,   0.0069158,    0.006725,   0.0065342,   0.0064388,   0.0063543,   0.0062697,   0.0061852,   0.0061007,   0.0060162,   0.0059316,   0.0058471,   0.0057626,\n",
       "           0.005678,   0.0055935,    0.005509,   0.0054245,   0.0053399,   0.0052554,   0.0051709,   0.0050864,   0.0050018,   0.0049173,   0.0048328,   0.0047482,   0.0046637,   0.0045792,   0.0044947,   0.0044101,   0.0043256,   0.0042411,   0.0041566,    0.004072,   0.0039875,    0.003903,   0.0038184,\n",
       "          0.0037339,   0.0036494,   0.0035649,   0.0034803,   0.0033958,   0.0033113,           0,           0,           0,           0,           0,           0,           0,           0,           0,           0,           0,           0,           0,           0,           0,           0,           0,\n",
       "                  0,           0,           0,           0,           0,           0,           0,           0,           0,           0,           0,           0,           0,           0,           0,           0,           0,           0,           0,           0,           0,           0,           0,\n",
       "                  0,           0,           0,           0,           0,           0,           0,           0,           0,           0,           0,           0,           0,           0,           0,           0,           0,           0,           0,           0,           0,           0,           0,\n",
       "                  0,           0,           0,           0,           0,           0,           0,           0,           0,           0,           0,           0,           0,           0,           0,           0,           0,           0,           0,           0,           0,           0,           0,\n",
       "                  0,           0,           0,           0,           0,           0,           0,           0,           0,           0,           0,           0,           0,           0,           0,           0,           0,           0,           0,           0,           0,           0,           0,\n",
       "                  0,           0,           0,           0,           0,           0,           0,           0,           0,           0,           0,           0,           0,           0,           0,           0,           0,           0,           0,           0,           0,           0,           0,\n",
       "                  0,           0,           0,           0,           0,           0,           0,           0,           0,           0,           0,           0,           0,           0,           0,           0,           0,           0,           0,           0,           0,           0,           0,\n",
       "                  0,           0,           0,           0,           0,           0,           0,           0,           0,           0,           0]]), 'Confidence', 'Recall']]\n",
       "fitness: 0.20177452895634285\n",
       "keys: ['metrics/precision(B)', 'metrics/recall(B)', 'metrics/mAP50(B)', 'metrics/mAP50-95(B)']\n",
       "maps: array([    0.17652])\n",
       "names: {0: '-FireBlight-'}\n",
       "plot: True\n",
       "results_dict: {'metrics/precision(B)': 0.5512868156721407, 'metrics/recall(B)': 0.4242079212763252, 'metrics/mAP50(B)': 0.4291074814139362, 'metrics/mAP50-95(B)': 0.17651531201661025, 'fitness': 0.20177452895634285}\n",
       "save_dir: WindowsPath('runs/detect/train')\n",
       "speed: {'preprocess': 0.2980518944655793, 'inference': 2.5504963307441035, 'loss': 0.012551681904853144, 'postprocess': 0.7624082927462421}\n",
       "task: 'detect'"
      ]
     },
     "execution_count": 15,
     "metadata": {},
     "output_type": "execute_result"
    }
   ],
   "source": [
    "from ultralytics import YOLO\n",
    "\n",
    "# Load YOLOv10 model\n",
    "model = YOLO(\"yolov10n.pt\")\n",
    "\n",
    "model.train(data = r\"C:\\Users\\Fer\\Desktop\\FireBlight_DetectionYolov10\\fire\\FireBlight_DataSet-3\\data.yaml\", epochs = 25, batch = 8, plots = True)"
   ]
  },
  {
   "cell_type": "markdown",
   "metadata": {},
   "source": [
    "#### Empty our GPU cache"
   ]
  },
  {
   "cell_type": "code",
   "execution_count": 16,
   "metadata": {},
   "outputs": [],
   "source": [
    "import torch\n",
    "torch.cuda.empty_cache()"
   ]
  }
 ],
 "metadata": {
  "kernelspec": {
   "display_name": "yolov10",
   "language": "python",
   "name": "python3"
  },
  "language_info": {
   "codemirror_mode": {
    "name": "ipython",
    "version": 3
   },
   "file_extension": ".py",
   "mimetype": "text/x-python",
   "name": "python",
   "nbconvert_exporter": "python",
   "pygments_lexer": "ipython3",
   "version": "3.9.20"
  }
 },
 "nbformat": 4,
 "nbformat_minor": 2
}
